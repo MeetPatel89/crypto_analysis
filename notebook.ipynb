{
 "cells": [
  {
   "cell_type": "code",
   "execution_count": 1,
   "metadata": {},
   "outputs": [],
   "source": [
    "import pandas as pd\n",
    "import numpy as np\n",
    "%matplotlib inline\n",
    "import config \n",
    "import sql_con\n",
    "from requests import Session\n",
    "from requests.exceptions import ConnectionError, Timeout, TooManyRedirects\n",
    "import json\n",
    "import csv"
   ]
  },
  {
   "cell_type": "code",
   "execution_count": 2,
   "metadata": {},
   "outputs": [],
   "source": [
    "# get module variables\n",
    "ROOT_DIR = config.ROOT_DIR\n",
    "select_records = sql_con.select_records\n",
    "insert_records = sql_con.insert_records\n",
    "update_records = sql_con.update_records\n",
    "conn_odbc = sql_con.conn_odbc\n",
    "read_contents = sql_con.read_contents"
   ]
  },
  {
   "cell_type": "code",
   "execution_count": 3,
   "metadata": {},
   "outputs": [],
   "source": [
    "# function to make calls to cryptocompare API\n",
    "def get_data(url, parameters, headers):\n",
    "    session = Session()\n",
    "    session.headers.update(headers)\n",
    "    try:\n",
    "        response = session.get(url, params=parameters)\n",
    "        data = json.loads(response.text)\n",
    "        return data\n",
    "    except (ConnectionError, Timeout, TooManyRedirects) as e:\n",
    "        print(e)"
   ]
  },
  {
   "cell_type": "code",
   "execution_count": 4,
   "metadata": {},
   "outputs": [],
   "source": [
    "# function to get api data for top 10 coins\n",
    "def get_coin_data(coin_list, url, headers):\n",
    "    coin_data = []\n",
    "    parameters = { \n",
    "        \"tsym\":\"USD\",\n",
    "        \"allData\":\"true\"\n",
    "    }\n",
    "    for coin in coin_list:\n",
    "        parameters[\"fsym\"] = coin\n",
    "        res_json = get_data(url, parameters, headers)\n",
    "        data = res_json[\"Data\"]\n",
    "        # iterate through the data and add the coin name to each row\n",
    "        for row in data:\n",
    "            row[\"symbol\"] = coin\n",
    "        coin_data.extend(data)\n",
    "    return coin_data"
   ]
  },
  {
   "cell_type": "code",
   "execution_count": 5,
   "metadata": {},
   "outputs": [],
   "source": [
    "# authorization header for making calls to crypto compare API\n",
    "# read api key from config file using dotev module\n",
    "headers = {\n",
    "  \"authorization\": f\"Apikey {config.API_KEY}\"\n",
    "}"
   ]
  },
  {
   "cell_type": "code",
   "execution_count": 6,
   "metadata": {},
   "outputs": [],
   "source": [
    "# relevant urls for making calls to crypto compare API\n",
    "top10_url = \"https://min-api.cryptocompare.com/data/top/mktcapfull\"\n",
    "hist_url = \"https://min-api.cryptocompare.com/data/histoday\""
   ]
  },
  {
   "cell_type": "code",
   "execution_count": 7,
   "metadata": {},
   "outputs": [],
   "source": [
    "# get top 10 coins by market cap, capture json response\n",
    "parameters = {\n",
    "  \"tsym\":\"USD\",\n",
    "  \"limit\": 10\n",
    "}\n",
    "\n",
    "res_json_top10 = get_data(top10_url, parameters, headers)\n",
    "data_top10 = res_json_top10[\"Data\"]"
   ]
  },
  {
   "cell_type": "code",
   "execution_count": 8,
   "metadata": {},
   "outputs": [],
   "source": [
    "# capture top 10 coins in a list of dictionaries and write to json file (ingestion layer)\n",
    "top10_coins = [{\"Name\": coin[\"CoinInfo\"][\"Name\"], \"FullName\": coin[\"CoinInfo\"][\"FullName\"], \"Algorithm\": coin[\"CoinInfo\"][\"Algorithm\"], \"ProofType\": coin[\"CoinInfo\"][\"ProofType\"]} for coin in data_top10]\n",
    "with open(rf\"{ROOT_DIR}/data/top10_coins.json\", \"w\") as f:\n",
    "    f.write(json.dumps(top10_coins))"
   ]
  },
  {
   "cell_type": "code",
   "execution_count": 9,
   "metadata": {},
   "outputs": [],
   "source": [
    "# make request to cryptocompare api to get historical data for bitcoin quote prices in USD\n",
    "\n",
    "# parameters = {\n",
    "#   \"fsym\": \"BTC\",\n",
    "#   \"tsym\":\"USD\",\n",
    "#   \"allData\":\"true\"\n",
    "# }\n",
    "\n",
    "# res_json = get_data(hist_url, parameters, headers)\n",
    "# data = res_json[\"Data\"]"
   ]
  },
  {
   "cell_type": "code",
   "execution_count": 10,
   "metadata": {},
   "outputs": [],
   "source": [
    "import findspark\n",
    "findspark.init()"
   ]
  },
  {
   "cell_type": "code",
   "execution_count": 11,
   "metadata": {},
   "outputs": [],
   "source": [
    "# spark session start to begin transforming data (processing layer)\n",
    "from pyspark.sql import SparkSession\n",
    "spark=SparkSession.builder.appName(\"crypto_analysis\").getOrCreate()"
   ]
  },
  {
   "cell_type": "code",
   "execution_count": 12,
   "metadata": {},
   "outputs": [
    {
     "name": "stdout",
     "output_type": "stream",
     "text": [
      "+----+------------+---------+---------+\n",
      "|Name|FullName    |Algorithm|ProofType|\n",
      "+----+------------+---------+---------+\n",
      "|BTC |Bitcoin     |SHA-256  |PoW      |\n",
      "|ETH |Ethereum    |Ethash   |PoS      |\n",
      "|USDT|Tether      |N/A      |N/A      |\n",
      "|XRP |XRP         |N/A      |XRP LCP  |\n",
      "|BNB |Binance Coin|BEP-2    |PoSA     |\n",
      "|USDC|USD Coin    |N/A      |N/A      |\n",
      "|ADA |Cardano     |Ouroboros|PoS      |\n",
      "|DOGE|Dogecoin    |Scrypt   |PoW      |\n",
      "|APT |Aptos       |N/A      |N/A      |\n",
      "|SOL |Solana      |N/A      |PoH      |\n",
      "+----+------------+---------+---------+\n",
      "\n"
     ]
    }
   ],
   "source": [
    "from pyspark.sql.types import StructType, StructField, StringType, LongType, DoubleType\n",
    "\n",
    "schema = StructType([\n",
    "    StructField(\"Name\", StringType(), True),\n",
    "    StructField(\"FullName\", StringType(), True),\n",
    "    StructField(\"Algorithm\", StringType(), True),\n",
    "    StructField(\"ProofType\", StringType(), True)\n",
    "])\n",
    "df_top10 = spark.read.option(\"schema\", schema).json(rf\"{ROOT_DIR}\\data\\top10_coins.json\").select(\"Name\", \"FullName\", \"Algorithm\", \"ProofType\")\n",
    "df_top10.show(truncate=False)"
   ]
  },
  {
   "cell_type": "code",
   "execution_count": 13,
   "metadata": {},
   "outputs": [
    {
     "data": {
      "text/plain": [
       "['BTC', 'ETH', 'USDT', 'XRP', 'BNB', 'USDC', 'ADA', 'DOGE', 'APT', 'SOL']"
      ]
     },
     "execution_count": 13,
     "metadata": {},
     "output_type": "execute_result"
    }
   ],
   "source": [
    "coin_list = df_top10.rdd.map(lambda x: x[0]).collect()\n",
    "coin_list"
   ]
  },
  {
   "cell_type": "code",
   "execution_count": 14,
   "metadata": {},
   "outputs": [],
   "source": [
    "# read historical data for top 10 coins from cryptocompare API\n",
    "all_coins_data = get_coin_data(coin_list, hist_url, headers)"
   ]
  },
  {
   "cell_type": "code",
   "execution_count": 119,
   "metadata": {},
   "outputs": [],
   "source": [
    "# capture data from reponse and write to json file (ingestion layer)\n",
    "with open(rf\"{ROOT_DIR}\\data\\all_coins_data.json\", \"w\") as f:\n",
    "    f.write(json.dumps(all_coins_data))"
   ]
  },
  {
   "cell_type": "code",
   "execution_count": 120,
   "metadata": {},
   "outputs": [
    {
     "name": "stdout",
     "output_type": "stream",
     "text": [
      "+-------+----------------+--------------+-------+-------+-------+------+----------+----------+--------+\n",
      "|  close|conversionSymbol|conversionType|   high|    low|   open|symbol|      time|volumefrom|volumeto|\n",
      "+-------+----------------+--------------+-------+-------+-------+------+----------+----------+--------+\n",
      "|0.04951|                |        direct|0.04951|0.04951|0.04951|   BTC|1279324800|      20.0|  0.9902|\n",
      "|0.08584|                |        direct|0.08585|0.05941|0.04951|   BTC|1279411200|     75.01|   5.092|\n",
      "| 0.0808|                |        direct|0.09307|0.07723|0.08584|   BTC|1279497600|     574.0|   49.66|\n",
      "|0.07474|                |        direct|0.08181|0.07426| 0.0808|   BTC|1279584000|     262.0|   20.59|\n",
      "|0.07921|                |        direct|0.07921|0.06634|0.07474|   BTC|1279670400|     575.0|   42.26|\n",
      "| 0.0505|                |        direct|0.08181| 0.0505|0.07921|   BTC|1279756800|    2160.0|  129.78|\n",
      "|0.06262|                |        direct|0.06767| 0.0505| 0.0505|   BTC|1279843200|    2402.5|  141.07|\n",
      "|0.05454|                |        direct|0.06161|0.05049|0.06262|   BTC|1279929600|    496.32|   26.73|\n",
      "| 0.0505|                |        direct|0.05941| 0.0505|0.05454|   BTC|1280016000|   1551.48|   85.06|\n",
      "|  0.056|                |        direct|  0.056|   0.05| 0.0505|   BTC|1280102400|     877.0|   46.91|\n",
      "+-------+----------------+--------------+-------+-------+-------+------+----------+----------+--------+\n",
      "only showing top 10 rows\n",
      "\n"
     ]
    }
   ],
   "source": [
    "# read ingested json file and print out first 10 records\n",
    "\n",
    "schema = StructType([\n",
    "    StructField(\"symbol\", StringType(), True),\n",
    "    StructField(\"time\", LongType(), True),\n",
    "    StructField(\"close\", DoubleType(), True),\n",
    "    StructField(\"high\", DoubleType(), True),\n",
    "    StructField(\"low\", DoubleType(), True),\n",
    "    StructField(\"open\", DoubleType(), True),\n",
    "    StructField(\"volumefrom\", DoubleType(), True),\n",
    "    StructField(\"volumeto\", DoubleType(), True),\n",
    "    StructField(\"conversionType\", StringType(), True),\n",
    "    StructField(\"conversionSymbol\", StringType(), True)\n",
    "])\n",
    "\n",
    "df = spark.read.option(\"schema\", schema).json(rf\"{ROOT_DIR}/data/all_coins_data.json\")\n",
    "df.show(n=10)"
   ]
  },
  {
   "cell_type": "code",
   "execution_count": 121,
   "metadata": {},
   "outputs": [
    {
     "name": "stdout",
     "output_type": "stream",
     "text": [
      "root\n",
      " |-- close: double (nullable = true)\n",
      " |-- conversionSymbol: string (nullable = true)\n",
      " |-- conversionType: string (nullable = true)\n",
      " |-- high: double (nullable = true)\n",
      " |-- low: double (nullable = true)\n",
      " |-- open: double (nullable = true)\n",
      " |-- symbol: string (nullable = true)\n",
      " |-- time: long (nullable = true)\n",
      " |-- volumefrom: double (nullable = true)\n",
      " |-- volumeto: double (nullable = true)\n",
      "\n"
     ]
    }
   ],
   "source": [
    "df.printSchema()"
   ]
  },
  {
   "cell_type": "code",
   "execution_count": 122,
   "metadata": {},
   "outputs": [],
   "source": [
    "# get ingestion date as current unix epoch time\n",
    "# write data to csv file after adding ingestion date (csv ingestion point for data pipeline)\n",
    "from pyspark.sql.functions import unix_timestamp, from_unixtime, col\n",
    "\n",
    "df = df.withColumn(\"ingestion_date (unix epoch)\", unix_timestamp()).withColumnRenamed(\"time\", \"time (unix epoch)\")\n",
    "df.write.mode(\"overwrite\").option(\"quote\", \"\\u0000\").option(\"emptyValue\", \"\").csv(rf\"{ROOT_DIR}/data/all_coins_data.csv\", header=True)"
   ]
  },
  {
   "cell_type": "code",
   "execution_count": 123,
   "metadata": {},
   "outputs": [
    {
     "name": "stdout",
     "output_type": "stream",
     "text": [
      "+-------+----------------+--------------+-------+-------+-------+------+-----------------+----------+--------+---------------------------+\n",
      "|close  |conversionSymbol|conversionType|high   |low    |open   |symbol|time (unix epoch)|volumefrom|volumeto|ingestion_date (unix epoch)|\n",
      "+-------+----------------+--------------+-------+-------+-------+------+-----------------+----------+--------+---------------------------+\n",
      "|0.04951|                |direct        |0.04951|0.04951|0.04951|BTC   |1279324800       |20.0      |0.9902  |1680564384                 |\n",
      "|0.08584|                |direct        |0.08585|0.05941|0.04951|BTC   |1279411200       |75.01     |5.092   |1680564384                 |\n",
      "|0.0808 |                |direct        |0.09307|0.07723|0.08584|BTC   |1279497600       |574.0     |49.66   |1680564384                 |\n",
      "|0.07474|                |direct        |0.08181|0.07426|0.0808 |BTC   |1279584000       |262.0     |20.59   |1680564384                 |\n",
      "|0.07921|                |direct        |0.07921|0.06634|0.07474|BTC   |1279670400       |575.0     |42.26   |1680564384                 |\n",
      "|0.0505 |                |direct        |0.08181|0.0505 |0.07921|BTC   |1279756800       |2160.0    |129.78  |1680564384                 |\n",
      "|0.06262|                |direct        |0.06767|0.0505 |0.0505 |BTC   |1279843200       |2402.5    |141.07  |1680564384                 |\n",
      "|0.05454|                |direct        |0.06161|0.05049|0.06262|BTC   |1279929600       |496.32    |26.73   |1680564384                 |\n",
      "|0.0505 |                |direct        |0.05941|0.0505 |0.05454|BTC   |1280016000       |1551.48   |85.06   |1680564384                 |\n",
      "|0.056  |                |direct        |0.056  |0.05   |0.0505 |BTC   |1280102400       |877.0     |46.91   |1680564384                 |\n",
      "+-------+----------------+--------------+-------+-------+-------+------+-----------------+----------+--------+---------------------------+\n",
      "only showing top 10 rows\n",
      "\n"
     ]
    }
   ],
   "source": [
    "df.show(n=10, truncate=False)"
   ]
  },
  {
   "cell_type": "code",
   "execution_count": 124,
   "metadata": {},
   "outputs": [
    {
     "name": "stdout",
     "output_type": "stream",
     "text": [
      "+-------+----------------+--------------+-------+-------+-------+------+-----------------+----------+--------+---------------------------+\n",
      "|close  |conversionSymbol|conversionType|high   |low    |open   |symbol|time (unix epoch)|volumefrom|volumeto|ingestion_date (unix epoch)|\n",
      "+-------+----------------+--------------+-------+-------+-------+------+-----------------+----------+--------+---------------------------+\n",
      "|0.04951|null            |direct        |0.04951|0.04951|0.04951|BTC   |1279324800       |20.0      |0.9902  |1680564383                 |\n",
      "|0.08584|null            |direct        |0.08585|0.05941|0.04951|BTC   |1279411200       |75.01     |5.092   |1680564383                 |\n",
      "|0.0808 |null            |direct        |0.09307|0.07723|0.08584|BTC   |1279497600       |574.0     |49.66   |1680564383                 |\n",
      "|0.07474|null            |direct        |0.08181|0.07426|0.0808 |BTC   |1279584000       |262.0     |20.59   |1680564383                 |\n",
      "|0.07921|null            |direct        |0.07921|0.06634|0.07474|BTC   |1279670400       |575.0     |42.26   |1680564383                 |\n",
      "|0.0505 |null            |direct        |0.08181|0.0505 |0.07921|BTC   |1279756800       |2160.0    |129.78  |1680564383                 |\n",
      "|0.06262|null            |direct        |0.06767|0.0505 |0.0505 |BTC   |1279843200       |2402.5    |141.07  |1680564383                 |\n",
      "|0.05454|null            |direct        |0.06161|0.05049|0.06262|BTC   |1279929600       |496.32    |26.73   |1680564383                 |\n",
      "|0.0505 |null            |direct        |0.05941|0.0505 |0.05454|BTC   |1280016000       |1551.48   |85.06   |1680564383                 |\n",
      "|0.056  |null            |direct        |0.056  |0.05   |0.0505 |BTC   |1280102400       |877.0     |46.91   |1680564383                 |\n",
      "+-------+----------------+--------------+-------+-------+-------+------+-----------------+----------+--------+---------------------------+\n",
      "only showing top 10 rows\n",
      "\n"
     ]
    }
   ],
   "source": [
    "# read from ingested csv file and print out first 10 records\n",
    "schema = StructType([\n",
    "    StructField(\"close\", DoubleType(), True),\n",
    "    StructField(\"conversionSymbol\", StringType(), True),\n",
    "    StructField(\"conversionType\", StringType(), True),\n",
    "    StructField(\"high\", DoubleType(), True),\n",
    "    StructField(\"low\", DoubleType(), True),\n",
    "    StructField(\"open\", DoubleType(), True),\n",
    "    StructField(\"symbol\", StringType(), True),\n",
    "    StructField(\"time (unix epoch)\", LongType(), True),\n",
    "    StructField(\"volumefrom\", DoubleType(), True),\n",
    "    StructField(\"volumeto\", DoubleType(), True),\n",
    "    StructField(\"ingestion_date (unix epoch)\", LongType(), True)\n",
    "])\n",
    "\n",
    "df = spark.read.format(\"csv\").option(\"header\", \"true\").option(\"delimiter\", \",\").schema(schema).load(rf\"{ROOT_DIR}/data/all_coins_data.csv\")\n",
    "#df = spark.read.csv(rf\"{ROOT_DIR}/data/all_coins_data.csv\", header=True)\n",
    "df.show(n=10,truncate=False)"
   ]
  },
  {
   "cell_type": "code",
   "execution_count": 125,
   "metadata": {},
   "outputs": [
    {
     "name": "stdout",
     "output_type": "stream",
     "text": [
      "root\n",
      " |-- close: double (nullable = true)\n",
      " |-- conversionSymbol: string (nullable = true)\n",
      " |-- conversionType: string (nullable = true)\n",
      " |-- high: double (nullable = true)\n",
      " |-- low: double (nullable = true)\n",
      " |-- open: double (nullable = true)\n",
      " |-- symbol: string (nullable = true)\n",
      " |-- time (unix epoch): long (nullable = true)\n",
      " |-- volumefrom: double (nullable = true)\n",
      " |-- volumeto: double (nullable = true)\n",
      " |-- ingestion_date (unix epoch): long (nullable = true)\n",
      "\n"
     ]
    }
   ],
   "source": [
    "df.printSchema()"
   ]
  },
  {
   "cell_type": "code",
   "execution_count": 126,
   "metadata": {},
   "outputs": [
    {
     "data": {
      "text/plain": [
       "[('symbol', 'string'),\n",
       " ('time (unix epoch)', 'bigint'),\n",
       " ('open', 'double'),\n",
       " ('close', 'double'),\n",
       " ('high', 'double'),\n",
       " ('low', 'double'),\n",
       " ('volumefrom', 'double'),\n",
       " ('volumeto', 'double')]"
      ]
     },
     "execution_count": 126,
     "metadata": {},
     "output_type": "execute_result"
    }
   ],
   "source": [
    "# extract necessary columns\n",
    "df = df.select([\"symbol\", \"time (unix epoch)\", \"open\", \"close\", \"high\", \"low\", \"volumefrom\", \"volumeto\"])\n",
    "df.dtypes"
   ]
  },
  {
   "cell_type": "code",
   "execution_count": 127,
   "metadata": {},
   "outputs": [
    {
     "name": "stdout",
     "output_type": "stream",
     "text": [
      "+-------+------+-----------------+-----------------+-----------------+-----------------+--------------------+-------------------+\n",
      "|summary|symbol|             open|            close|             high|              low|          volumefrom|           volumeto|\n",
      "+-------+------+-----------------+-----------------+-----------------+-----------------+--------------------+-------------------+\n",
      "|  count| 46440|            46440|            46440|            46440|            46440|               46440|              46440|\n",
      "|   mean|  null|946.4146105644052|947.0567881728905|972.5415717613753|917.4431752445142|2.4762585907576047E7|9.247115327000473E7|\n",
      "| stddev|  null| 5303.62724937596|5305.099174289624|5446.683901175829|5141.800112725823| 1.596584600208285E8|3.553476900588219E8|\n",
      "|    min|   ADA|              0.0|              0.0|              0.0|              0.0|                 0.0|                0.0|\n",
      "|    max|   XRP|         67549.14|         67549.14|         68978.64|         66312.42|   1.153458176332E10|  1.112022085477E10|\n",
      "+-------+------+-----------------+-----------------+-----------------+-----------------+--------------------+-------------------+\n",
      "\n"
     ]
    }
   ],
   "source": [
    "# get descriptive statistics for numeric columns\n",
    "df.describe([\"symbol\", \"open\", \"close\", \"high\", \"low\", \"volumefrom\", \"volumeto\"]).show()"
   ]
  },
  {
   "cell_type": "code",
   "execution_count": 128,
   "metadata": {},
   "outputs": [
    {
     "name": "stdout",
     "output_type": "stream",
     "text": [
      "+------+-----------------+-------+-------+-------+-------+----------+--------+\n",
      "|symbol|time (unix epoch)|   open|  close|   high|    low|volumefrom|volumeto|\n",
      "+------+-----------------+-------+-------+-------+-------+----------+--------+\n",
      "|   BTC|       1279324800|0.04951|0.04951|0.04951|0.04951|      20.0|  0.9902|\n",
      "|   BTC|       1279411200|0.04951|0.08584|0.08585|0.05941|     75.01|   5.092|\n",
      "|   BTC|       1279497600|0.08584| 0.0808|0.09307|0.07723|     574.0|   49.66|\n",
      "|   BTC|       1279584000| 0.0808|0.07474|0.08181|0.07426|     262.0|   20.59|\n",
      "|   BTC|       1279670400|0.07474|0.07921|0.07921|0.06634|     575.0|   42.26|\n",
      "|   BTC|       1279756800|0.07921| 0.0505|0.08181| 0.0505|    2160.0|  129.78|\n",
      "|   BTC|       1279843200| 0.0505|0.06262|0.06767| 0.0505|    2402.5|  141.07|\n",
      "|   BTC|       1279929600|0.06262|0.05454|0.06161|0.05049|    496.32|   26.73|\n",
      "|   BTC|       1280016000|0.05454| 0.0505|0.05941| 0.0505|   1551.48|   85.06|\n",
      "|   BTC|       1280102400| 0.0505|  0.056|  0.056|   0.05|     877.0|   46.91|\n",
      "+------+-----------------+-------+-------+-------+-------+----------+--------+\n",
      "only showing top 10 rows\n",
      "\n"
     ]
    }
   ],
   "source": [
    "df.show(n=10)"
   ]
  },
  {
   "cell_type": "code",
   "execution_count": 129,
   "metadata": {},
   "outputs": [],
   "source": [
    "# set spark session timezone to UTC to have a uniform reference point for all date related fields\n",
    "spark.conf.set(\"spark.sql.session.timeZone\", \"UTC\")\n",
    "df = df.withColumn(\"date_time (unix)\", from_unixtime(\"time (unix epoch)\", \"yyyy-MM-dd HH:mm:ss\"))\n",
    "spark.conf.unset(\"spark.sql.session.timeZone\")"
   ]
  },
  {
   "cell_type": "code",
   "execution_count": 130,
   "metadata": {},
   "outputs": [
    {
     "name": "stdout",
     "output_type": "stream",
     "text": [
      "+------+-----------------+-------+-------+-------+-------+----------+--------+-------------------+-------------------+\n",
      "|symbol|time (unix epoch)|open   |close  |high   |low    |volumefrom|volumeto|date_time (unix)   |date_time          |\n",
      "+------+-----------------+-------+-------+-------+-------+----------+--------+-------------------+-------------------+\n",
      "|BTC   |1279324800       |0.04951|0.04951|0.04951|0.04951|20.0      |0.9902  |2010-07-17 00:00:00|2010-07-16 20:00:00|\n",
      "|BTC   |1279411200       |0.04951|0.08584|0.08585|0.05941|75.01     |5.092   |2010-07-18 00:00:00|2010-07-17 20:00:00|\n",
      "|BTC   |1279497600       |0.08584|0.0808 |0.09307|0.07723|574.0     |49.66   |2010-07-19 00:00:00|2010-07-18 20:00:00|\n",
      "|BTC   |1279584000       |0.0808 |0.07474|0.08181|0.07426|262.0     |20.59   |2010-07-20 00:00:00|2010-07-19 20:00:00|\n",
      "|BTC   |1279670400       |0.07474|0.07921|0.07921|0.06634|575.0     |42.26   |2010-07-21 00:00:00|2010-07-20 20:00:00|\n",
      "|BTC   |1279756800       |0.07921|0.0505 |0.08181|0.0505 |2160.0    |129.78  |2010-07-22 00:00:00|2010-07-21 20:00:00|\n",
      "|BTC   |1279843200       |0.0505 |0.06262|0.06767|0.0505 |2402.5    |141.07  |2010-07-23 00:00:00|2010-07-22 20:00:00|\n",
      "|BTC   |1279929600       |0.06262|0.05454|0.06161|0.05049|496.32    |26.73   |2010-07-24 00:00:00|2010-07-23 20:00:00|\n",
      "|BTC   |1280016000       |0.05454|0.0505 |0.05941|0.0505 |1551.48   |85.06   |2010-07-25 00:00:00|2010-07-24 20:00:00|\n",
      "|BTC   |1280102400       |0.0505 |0.056  |0.056  |0.05   |877.0     |46.91   |2010-07-26 00:00:00|2010-07-25 20:00:00|\n",
      "+------+-----------------+-------+-------+-------+-------+----------+--------+-------------------+-------------------+\n",
      "only showing top 10 rows\n",
      "\n"
     ]
    }
   ],
   "source": [
    "# timezone will default to system timezone (Easter Standard Time) in absence of specific spark.sql.session.timeZone setting\n",
    "df.withColumn(\"date_time\", from_unixtime(\"time (unix epoch)\", \"yyyy-MM-dd HH:mm:ss\")).show(n=10, truncate=False)"
   ]
  },
  {
   "attachments": {},
   "cell_type": "markdown",
   "metadata": {},
   "source": [
    "#### Create a new dataframe with a column called HV Ratio that is the ratio of the High Price versus volume of stock traded for a day"
   ]
  },
  {
   "cell_type": "code",
   "execution_count": 131,
   "metadata": {},
   "outputs": [
    {
     "name": "stdout",
     "output_type": "stream",
     "text": [
      "+------+-----------------+------+------+------+------+----------+--------+-------------------+------------------+\n",
      "|symbol|time (unix epoch)|open  |close |high  |low   |volumefrom|volumeto|date_time (unix)   |HV Ratio          |\n",
      "+------+-----------------+------+------+------+------+----------+--------+-------------------+------------------+\n",
      "|USDT  |1424476800       |1.15  |1.5   |1.5   |1.15  |1.415E-4  |2.122E-4|2015-02-21 00:00:00|10600.706713780919|\n",
      "|USDT  |1441152000       |0.96  |1.15  |1.15  |0.96  |1.252E-4  |1.44E-4 |2015-09-02 00:00:00|9185.303514376996 |\n",
      "|USDT  |1456185600       |1.1   |1.1   |1.1   |1.1   |1.518E-4  |1.67E-4 |2016-02-23 00:00:00|7246.376811594203 |\n",
      "|USDT  |1420761600       |1.0   |1.0   |1.0   |1.0   |2.4E-4    |2.4E-4  |2015-01-09 00:00:00|4166.666666666667 |\n",
      "|USDT  |1422662400       |0.9274|4.37  |4.37  |0.874 |0.005     |0.02185 |2015-01-31 00:00:00|874.0             |\n",
      "|USDT  |1441065600       |0.96  |0.96  |0.96  |0.96  |0.002304  |2.301   |2015-09-01 00:00:00|416.66666666666663|\n",
      "|USDT  |1455667200       |1.1   |1.1   |1.1   |1.1   |0.0055    |0.00605 |2016-02-17 00:00:00|200.00000000000003|\n",
      "|USDT  |1446768000       |191.35|207.09|207.09|207.09|1.148     |237.74  |2015-11-06 00:00:00|180.3919860627178 |\n",
      "|USDT  |1446681600       |200.45|191.35|191.35|191.35|1.131     |216.42  |2015-11-05 00:00:00|169.1865605658709 |\n",
      "|USDT  |1466121600       |2.055 |2.009 |2.009 |2.009 |0.0373    |0.07492 |2016-06-17 00:00:00|53.860589812332435|\n",
      "|USDT  |1466467200       |1.982 |1.802 |1.802 |1.802 |0.04      |0.07208 |2016-06-21 00:00:00|45.05             |\n",
      "|USDT  |1421193600       |0.7524|2.474 |2.474 |0.5607|0.077     |0.1905  |2015-01-14 00:00:00|32.129870129870135|\n",
      "|USDT  |1420934400       |0.9021|0.9002|0.9002|0.8737|0.03      |0.02701 |2015-01-11 00:00:00|30.006666666666668|\n",
      "|USDT  |1462924800       |1.248 |1.257 |1.257 |1.257 |0.057     |0.07163 |2016-05-11 00:00:00|22.052631578947366|\n",
      "|USDT  |1428537600       |3.179 |3.163 |3.163 |3.163 |0.16      |0.5061  |2015-04-09 00:00:00|19.768749999999997|\n",
      "|USDT  |1453420800       |1.149 |1.071 |1.071 |1.071 |0.059     |0.06321 |2016-01-22 00:00:00|18.152542372881356|\n",
      "|USDT  |1485129600       |1.351 |1.355 |1.355 |1.355 |0.0771    |0.1044  |2017-01-23 00:00:00|17.5745784695201  |\n",
      "|USDT  |1477785600       |1.144 |1.116 |1.116 |1.116 |0.07      |0.07809 |2016-10-30 00:00:00|15.942857142857143|\n",
      "|USDT  |1458864000       |1.152 |1.155 |1.155 |1.155 |0.08      |0.09239 |2016-03-25 00:00:00|14.4375           |\n",
      "|USDT  |1448582400       |1.591 |1.617 |1.617 |1.617 |0.1131    |0.1829  |2015-11-27 00:00:00|14.297082228116711|\n",
      "+------+-----------------+------+------+------+------+----------+--------+-------------------+------------------+\n",
      "only showing top 20 rows\n",
      "\n"
     ]
    }
   ],
   "source": [
    "df2 = df.withColumn(\"HV Ratio\", col(\"high\")/col(\"volumefrom\"))\n",
    "\n",
    "# display dataframe in descending order of HV Ratio\n",
    "df2.sort(\"HV Ratio\", ascending=False).show(truncate=False)"
   ]
  },
  {
   "cell_type": "code",
   "execution_count": 132,
   "metadata": {},
   "outputs": [
    {
     "name": "stdout",
     "output_type": "stream",
     "text": [
      "+------+-----------------+--------+--------+--------+--------+---------------+--------------+-------------------+----------------------+\n",
      "|symbol|time (unix epoch)|open    |close   |high    |low     |volumefrom     |volumeto      |date_time (unix)   |HV Ratio              |\n",
      "+------+-----------------+--------+--------+--------+--------+---------------+--------------+-------------------+----------------------+\n",
      "|BTC   |1680480000       |28186.76|27899.45|28494.64|27290.26|50055.57       |1.4019177024E9|2023-04-03 00:00:00|0.5692601242978553    |\n",
      "|XRP   |1680480000       |0.5185  |0.4999  |0.5242  |0.4844  |8.015672379E7  |4.069469086E7 |2023-04-03 00:00:00|6.539688440527267E-9  |\n",
      "|BNB   |1680480000       |313.85  |307.39  |314.19  |300.12  |12143.88       |3762979.66    |2023-04-03 00:00:00|0.025872291228174193  |\n",
      "|USDT  |1680480000       |1.0     |1.0     |1.0     |0.9998  |3.2038421362E8 |3.2043103595E8|2023-04-03 00:00:00|3.1212524134727684E-9 |\n",
      "|ADA   |1680480000       |0.3817  |0.389   |0.4048  |0.3714  |1.0428927028E8 |4.059614585E7 |2023-04-03 00:00:00|3.88151148160474E-9   |\n",
      "|DOGE  |1680480000       |0.07907 |0.09475 |0.1044  |0.0761  |2.17300655525E9|2.0162963789E8|2023-04-03 00:00:00|4.804403362142136E-11 |\n",
      "|USDC  |1680480000       |0.9997  |0.9999  |1.0     |0.9984  |4.055268762E7  |4.054475343E7 |2023-04-03 00:00:00|2.465927805748723E-8  |\n",
      "|APT   |1680480000       |12.17   |11.42   |12.17   |11.01   |252007.64      |2892578.61    |2023-04-03 00:00:00|4.829218669719695E-5  |\n",
      "|SOL   |1680480000       |20.53   |20.56   |21.0    |19.98   |2379716.51     |4.855769207E7 |2023-04-03 00:00:00|8.8245805379566E-6    |\n",
      "|ETH   |1680480000       |1795.54 |1809.79 |1839.73 |1764.78 |350707.61      |6.3169234841E8|2023-04-03 00:00:00|0.005245765838956275  |\n",
      "|BTC   |1680393600       |28465.3 |28186.76|28538.36|27880.95|21016.25       |5.9258107246E8|2023-04-02 00:00:00|1.3579187533456254    |\n",
      "|ETH   |1680393600       |1821.54 |1795.54 |1825.78 |1774.44 |158638.9       |2.8601291007E8|2023-04-02 00:00:00|0.011509030887127937  |\n",
      "|ADA   |1680393600       |0.3923  |0.3817  |0.393   |0.3763  |4.141235098E7  |1.587847649E7 |2023-04-02 00:00:00|9.489922467570086E-9  |\n",
      "|USDC  |1680393600       |0.9999  |1.0     |1.013   |0.9893  |21016.25       |21018.74      |2023-04-02 00:00:00|4.820079700231963E-5  |\n",
      "|USDT  |1680393600       |1.0     |1.001   |1.013   |0.9897  |21016.25       |21027.54      |2023-04-02 00:00:00|4.820079700231963E-5  |\n",
      "|XRP   |1680393600       |0.5095  |0.5185  |0.529   |0.5019  |4.109425657E7  |2.12965457E7  |2023-04-02 00:00:00|1.2872845116419149E-8 |\n",
      "|DOGE  |1680393600       |0.08185 |0.07907 |0.08558 |0.07739 |5.0548531565E8 |4.141487856E7 |2023-04-02 00:00:00|1.6930264312416928E-10|\n",
      "|SOL   |1680393600       |21.08   |20.52   |21.3    |20.24   |2616701.16     |5.36947078E7  |2023-04-02 00:00:00|8.140020085442236E-6  |\n",
      "|BNB   |1680393600       |314.83  |314.0   |315.41  |311.75  |24478.84       |7686368.16    |2023-04-02 00:00:00|0.012885005988845878  |\n",
      "|APT   |1680393600       |11.27   |12.16   |12.58   |11.15   |1.383665381E7  |1.6825371033E8|2023-04-02 00:00:00|9.091793559876598E-7  |\n",
      "+------+-----------------+--------+--------+--------+--------+---------------+--------------+-------------------+----------------------+\n",
      "only showing top 20 rows\n",
      "\n"
     ]
    }
   ],
   "source": [
    "# sort by date_time (unix) in descending order to get HV Ratiio for most recent dates\n",
    "df2.sort(\"date_time (unix)\", ascending=False).show(truncate=False)"
   ]
  },
  {
   "cell_type": "code",
   "execution_count": 133,
   "metadata": {},
   "outputs": [
    {
     "name": "stdout",
     "output_type": "stream",
     "text": [
      "root\n",
      " |-- symbol: string (nullable = true)\n",
      " |-- time (unix epoch): long (nullable = true)\n",
      " |-- open: double (nullable = true)\n",
      " |-- close: double (nullable = true)\n",
      " |-- high: double (nullable = true)\n",
      " |-- low: double (nullable = true)\n",
      " |-- volumefrom: double (nullable = true)\n",
      " |-- volumeto: double (nullable = true)\n",
      " |-- date_time (unix): string (nullable = true)\n",
      " |-- HV Ratio: double (nullable = true)\n",
      "\n"
     ]
    }
   ],
   "source": [
    "df2.printSchema()"
   ]
  },
  {
   "cell_type": "code",
   "execution_count": 134,
   "metadata": {},
   "outputs": [
    {
     "name": "stdout",
     "output_type": "stream",
     "text": [
      "+----+---------+\n",
      "| sym|max(high)|\n",
      "+----+---------+\n",
      "| ETH|  4865.94|\n",
      "|DOGE|   0.7398|\n",
      "|USDC|    1.643|\n",
      "| BTC| 68978.64|\n",
      "|USDT|   207.09|\n",
      "| XRP|     3.29|\n",
      "| SOL|   259.95|\n",
      "| BNB|   693.73|\n",
      "| APT|    20.33|\n",
      "| ADA|    3.097|\n",
      "+----+---------+\n",
      "\n"
     ]
    }
   ],
   "source": [
    "df2.groupby(col(\"symbol\").alias(\"sym\")).max(\"high\").show()"
   ]
  },
  {
   "attachments": {},
   "cell_type": "markdown",
   "metadata": {},
   "source": [
    "#### What day had the Peak High in Price for each cryptocurrency in dataset?"
   ]
  },
  {
   "cell_type": "code",
   "execution_count": 135,
   "metadata": {},
   "outputs": [
    {
     "name": "stdout",
     "output_type": "stream",
     "text": [
      "+------+-------------------+--------+\n",
      "|symbol|   date_time (unix)|    high|\n",
      "+------+-------------------+--------+\n",
      "|   BTC|2021-11-10 00:00:00|68978.64|\n",
      "|   ETH|2021-11-10 00:00:00| 4865.94|\n",
      "|  USDT|2015-11-06 00:00:00|  207.09|\n",
      "|   XRP|2018-01-04 00:00:00|    3.29|\n",
      "|   BNB|2021-11-08 00:00:00|  693.73|\n",
      "|  USDC|2020-03-12 00:00:00|   1.643|\n",
      "|   ADA|2021-09-02 00:00:00|   3.097|\n",
      "|  DOGE|2021-05-08 00:00:00|  0.7398|\n",
      "|   APT|2023-01-30 00:00:00|   20.33|\n",
      "|   SOL|2021-11-06 00:00:00|  259.95|\n",
      "+------+-------------------+--------+\n",
      "\n"
     ]
    }
   ],
   "source": [
    "df_max_high = df2.groupby(col(\"symbol\").alias(\"sym\")).agg({\"high\": \"max\"})\n",
    "df2.join(df_max_high, (df2[\"symbol\"] == df_max_high[\"sym\"]) & (df2[\"high\"] == df_max_high[\"max(high)\"])).select([\"symbol\", \"date_time (unix)\", \"high\"]).show()"
   ]
  },
  {
   "attachments": {},
   "cell_type": "markdown",
   "metadata": {},
   "source": [
    "#### What is the mean closing price for each cryptocurrency?"
   ]
  },
  {
   "cell_type": "code",
   "execution_count": 139,
   "metadata": {},
   "outputs": [
    {
     "name": "stdout",
     "output_type": "stream",
     "text": [
      "+------+--------------------+\n",
      "|symbol|          avg(close)|\n",
      "+------+--------------------+\n",
      "|   BTC|   8890.763590996981|\n",
      "|   ETH|   501.0292704349697|\n",
      "|   BNB|   65.51261989664081|\n",
      "|   SOL|  11.368294465977598|\n",
      "|  USDT|  0.7592086563307624|\n",
      "|  USDC| 0.35299541343669266|\n",
      "|   APT|  0.3212228682170544|\n",
      "|   XRP| 0.22891996317829463|\n",
      "|   ADA|  0.2054149397071489|\n",
      "|  DOGE|0.026344093449612395|\n",
      "+------+--------------------+\n",
      "\n"
     ]
    }
   ],
   "source": [
    "df2.groupby(\"symbol\").mean(\"close\").sort(\"avg(close)\", ascending=False).show()"
   ]
  },
  {
   "cell_type": "code",
   "execution_count": null,
   "metadata": {},
   "outputs": [],
   "source": []
  }
 ],
 "metadata": {
  "kernelspec": {
   "display_name": "pyspark-env-2",
   "language": "python",
   "name": "python3"
  },
  "language_info": {
   "codemirror_mode": {
    "name": "ipython",
    "version": 3
   },
   "file_extension": ".py",
   "mimetype": "text/x-python",
   "name": "python",
   "nbconvert_exporter": "python",
   "pygments_lexer": "ipython3",
   "version": "3.9.16"
  },
  "orig_nbformat": 4,
  "vscode": {
   "interpreter": {
    "hash": "39f93976b1c64978314e925c1e7f4ebbbbad2066ee63e0769d4e75540fba1ec4"
   }
  }
 },
 "nbformat": 4,
 "nbformat_minor": 2
}
