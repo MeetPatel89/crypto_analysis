{
 "cells": [
  {
   "cell_type": "code",
   "execution_count": 73,
   "metadata": {},
   "outputs": [],
   "source": [
    "import pandas as pd\n",
    "import numpy as np\n",
    "%matplotlib inline\n",
    "import config \n",
    "import sql_con\n",
    "from requests import Session\n",
    "from requests.exceptions import ConnectionError, Timeout, TooManyRedirects\n",
    "import json\n",
    "import csv"
   ]
  },
  {
   "cell_type": "code",
   "execution_count": 74,
   "metadata": {},
   "outputs": [],
   "source": [
    "# get module variables\n",
    "ROOT_DIR = config.ROOT_DIR\n",
    "select_records = sql_con.select_records\n",
    "insert_records = sql_con.insert_records\n",
    "update_records = sql_con.update_records\n",
    "conn_odbc = sql_con.conn_odbc\n",
    "read_contents = sql_con.read_contents"
   ]
  },
  {
   "cell_type": "code",
   "execution_count": 75,
   "metadata": {},
   "outputs": [],
   "source": [
    "# function to make calls to cryptocompare API\n",
    "def get_data(url, parameters, headers):\n",
    "    session = Session()\n",
    "    session.headers.update(headers)\n",
    "    try:\n",
    "        response = session.get(url, params=parameters)\n",
    "        data = json.loads(response.text)\n",
    "        return data\n",
    "    except (ConnectionError, Timeout, TooManyRedirects) as e:\n",
    "        print(e)"
   ]
  },
  {
   "cell_type": "code",
   "execution_count": 76,
   "metadata": {},
   "outputs": [],
   "source": [
    "# authorization header for making calls to crypto compare API\n",
    "# read api key from config file using dotev module\n",
    "headers = {\n",
    "  \"authorization\": f\"Apikey {config.API_KEY}\",\n",
    "}"
   ]
  },
  {
   "cell_type": "code",
   "execution_count": 77,
   "metadata": {},
   "outputs": [],
   "source": [
    "# get top 10 coins by market cap\n",
    "top10_url = \"https://min-api.cryptocompare.com/data/top/mktcapfull\"\n",
    "parameters = {\n",
    "  \"tsym\":\"USD\",\n",
    "  \"limit\": 10\n",
    "}\n",
    "\n",
    "data = get_data(top10_url, parameters, headers)"
   ]
  },
  {
   "cell_type": "code",
   "execution_count": 78,
   "metadata": {},
   "outputs": [
    {
     "data": {
      "text/plain": [
       "[{'Name': 'BTC',\n",
       "  'FullName': 'Bitcoin',\n",
       "  'Algorithm': 'SHA-256',\n",
       "  'ProofType': 'PoW'},\n",
       " {'Name': 'ETH',\n",
       "  'FullName': 'Ethereum',\n",
       "  'Algorithm': 'Ethash',\n",
       "  'ProofType': 'PoS'},\n",
       " {'Name': 'USDT',\n",
       "  'FullName': 'Tether',\n",
       "  'Algorithm': 'N/A',\n",
       "  'ProofType': 'N/A'},\n",
       " {'Name': 'XRP',\n",
       "  'FullName': 'XRP',\n",
       "  'Algorithm': 'N/A',\n",
       "  'ProofType': 'XRP LCP'},\n",
       " {'Name': 'BNB',\n",
       "  'FullName': 'Binance Coin',\n",
       "  'Algorithm': 'BEP-2',\n",
       "  'ProofType': 'PoSA'},\n",
       " {'Name': 'USDC',\n",
       "  'FullName': 'USD Coin',\n",
       "  'Algorithm': 'N/A',\n",
       "  'ProofType': 'N/A'},\n",
       " {'Name': 'ADA',\n",
       "  'FullName': 'Cardano',\n",
       "  'Algorithm': 'Ouroboros',\n",
       "  'ProofType': 'PoS'},\n",
       " {'Name': 'APT', 'FullName': 'Aptos', 'Algorithm': 'N/A', 'ProofType': 'N/A'},\n",
       " {'Name': 'SOL', 'FullName': 'Solana', 'Algorithm': 'N/A', 'ProofType': 'PoH'},\n",
       " {'Name': 'MATIC',\n",
       "  'FullName': 'Polygon',\n",
       "  'Algorithm': 'N/A',\n",
       "  'ProofType': 'N/A'}]"
      ]
     },
     "execution_count": 78,
     "metadata": {},
     "output_type": "execute_result"
    }
   ],
   "source": [
    "data = data[\"Data\"]\n",
    "top10_coins = [{\"Name\": coin[\"CoinInfo\"][\"Name\"], \"FullName\": coin[\"CoinInfo\"][\"FullName\"], \"Algorithm\": coin[\"CoinInfo\"][\"Algorithm\"], \"ProofType\": coin[\"CoinInfo\"][\"ProofType\"]} for coin in data]\n",
    "top10_coins"
   ]
  },
  {
   "cell_type": "code",
   "execution_count": null,
   "metadata": {},
   "outputs": [],
   "source": []
  },
  {
   "cell_type": "code",
   "execution_count": null,
   "metadata": {},
   "outputs": [],
   "source": []
  },
  {
   "cell_type": "code",
   "execution_count": null,
   "metadata": {},
   "outputs": [],
   "source": []
  },
  {
   "cell_type": "code",
   "execution_count": 36,
   "metadata": {},
   "outputs": [],
   "source": [
    "# make request to cryptocompare api to get historical data for bitcoin quote prices in USD\n",
    "url = \"https://min-api.cryptocompare.com/data/histoday\"\n",
    "parameters = {\n",
    "  \"fsym\": \"BTC\",\n",
    "  \"tsym\":\"USD\",\n",
    "  \"allData\":\"true\"\n",
    "}\n",
    "\n",
    "session = Session()\n",
    "session.headers.update(headers)\n",
    "\n",
    "try:\n",
    "  response = session.get(url, params=parameters)\n",
    "  res_json = json.loads(response.text)\n",
    "except (ConnectionError, Timeout, TooManyRedirects) as e:\n",
    "  print(e)\n",
    "\n",
    "# res1 = requests.get(url, headers=headers)"
   ]
  },
  {
   "cell_type": "code",
   "execution_count": 37,
   "metadata": {},
   "outputs": [],
   "source": [
    "# capture data from reponse and write to json file (ingestion layer)\n",
    "data = res_json[\"Data\"]\n",
    "with open(rf\"{ROOT_DIR}\\data\\btc_api_data.json\", \"w\") as f:\n",
    "    f.write(json.dumps(data))"
   ]
  },
  {
   "cell_type": "code",
   "execution_count": 38,
   "metadata": {},
   "outputs": [],
   "source": [
    "# spark session start to begin transforming data (processing layer)\n",
    "from pyspark.sql import SparkSession\n",
    "spark=SparkSession.builder.appName(\"crypto_analysis\").getOrCreate()"
   ]
  },
  {
   "cell_type": "code",
   "execution_count": 39,
   "metadata": {},
   "outputs": [],
   "source": [
    "# define schema for data\n",
    "from pyspark.sql.types import StructType, StructField, StringType, DoubleType, LongType\n",
    "\n",
    "schema = StructType([\n",
    "    StructField(\"time\", LongType(), True),\n",
    "    StructField(\"close\", DoubleType(), True),\n",
    "    StructField(\"high\", DoubleType(), True),\n",
    "    StructField(\"low\", DoubleType(), True),\n",
    "    StructField(\"open\", DoubleType(), True),\n",
    "    StructField(\"volumefrom\", DoubleType(), True),\n",
    "    StructField(\"volumeto\", DoubleType(), True),\n",
    "    StructField(\"conversionType\", StringType(), True),\n",
    "    StructField(\"conversionSymbol\", StringType(), True)\n",
    "])"
   ]
  },
  {
   "cell_type": "code",
   "execution_count": 40,
   "metadata": {},
   "outputs": [
    {
     "name": "stdout",
     "output_type": "stream",
     "text": [
      "+-------+----------------+--------------+-------+-------+-------+----------+----------+--------+\n",
      "|  close|conversionSymbol|conversionType|   high|    low|   open|      time|volumefrom|volumeto|\n",
      "+-------+----------------+--------------+-------+-------+-------+----------+----------+--------+\n",
      "|0.04951|                |        direct|0.04951|0.04951|0.04951|1279324800|      20.0|  0.9902|\n",
      "|0.08584|                |        direct|0.08585|0.05941|0.04951|1279411200|     75.01|   5.092|\n",
      "| 0.0808|                |        direct|0.09307|0.07723|0.08584|1279497600|     574.0|   49.66|\n",
      "|0.07474|                |        direct|0.08181|0.07426| 0.0808|1279584000|     262.0|   20.59|\n",
      "|0.07921|                |        direct|0.07921|0.06634|0.07474|1279670400|     575.0|   42.26|\n",
      "| 0.0505|                |        direct|0.08181| 0.0505|0.07921|1279756800|    2160.0|  129.78|\n",
      "|0.06262|                |        direct|0.06767| 0.0505| 0.0505|1279843200|    2402.5|  141.07|\n",
      "|0.05454|                |        direct|0.06161|0.05049|0.06262|1279929600|    496.32|   26.73|\n",
      "| 0.0505|                |        direct|0.05941| 0.0505|0.05454|1280016000|   1551.48|   85.06|\n",
      "|  0.056|                |        direct|  0.056|   0.05| 0.0505|1280102400|     877.0|   46.91|\n",
      "+-------+----------------+--------------+-------+-------+-------+----------+----------+--------+\n",
      "only showing top 10 rows\n",
      "\n"
     ]
    }
   ],
   "source": [
    "# read ingested json file and print out first 10 records\n",
    "df = spark.read.option(\"schema\", schema).json(rf\"{ROOT_DIR}/data/btc_api_data.json\")\n",
    "df.show(n=10)"
   ]
  },
  {
   "cell_type": "code",
   "execution_count": 41,
   "metadata": {},
   "outputs": [],
   "source": [
    "# get ingestion date as current unix epoch time\n",
    "# write data to csv file after adding ingestion date (csv ingestion point for data pipeline)\n",
    "from pyspark.sql.functions import unix_timestamp, current_timestamp, from_unixtime, col, date_format\n",
    "\n",
    "df = df.withColumn(\"ingestion_date (unix epoch)\", unix_timestamp()).withColumnRenamed(\"time\", \"time (unix epoch)\")\n",
    "df.write.mode(\"overwrite\").csv(rf\"{ROOT_DIR}/data/btc_price.csv\", header=True)\n"
   ]
  },
  {
   "cell_type": "code",
   "execution_count": 42,
   "metadata": {},
   "outputs": [
    {
     "name": "stdout",
     "output_type": "stream",
     "text": [
      "+-------+----------------+--------------+-------+-------+-------+-----------------+----------+--------+---------------------------+\n",
      "|close  |conversionSymbol|conversionType|high   |low    |open   |time (unix epoch)|volumefrom|volumeto|ingestion_date (unix epoch)|\n",
      "+-------+----------------+--------------+-------+-------+-------+-----------------+----------+--------+---------------------------+\n",
      "|0.04951|null            |direct        |0.04951|0.04951|0.04951|1279324800       |20.0      |0.9902  |1680537367                 |\n",
      "|0.08584|null            |direct        |0.08585|0.05941|0.04951|1279411200       |75.01     |5.092   |1680537367                 |\n",
      "|0.0808 |null            |direct        |0.09307|0.07723|0.08584|1279497600       |574.0     |49.66   |1680537367                 |\n",
      "|0.07474|null            |direct        |0.08181|0.07426|0.0808 |1279584000       |262.0     |20.59   |1680537367                 |\n",
      "|0.07921|null            |direct        |0.07921|0.06634|0.07474|1279670400       |575.0     |42.26   |1680537367                 |\n",
      "|0.0505 |null            |direct        |0.08181|0.0505 |0.07921|1279756800       |2160.0    |129.78  |1680537367                 |\n",
      "|0.06262|null            |direct        |0.06767|0.0505 |0.0505 |1279843200       |2402.5    |141.07  |1680537367                 |\n",
      "|0.05454|null            |direct        |0.06161|0.05049|0.06262|1279929600       |496.32    |26.73   |1680537367                 |\n",
      "|0.0505 |null            |direct        |0.05941|0.0505 |0.05454|1280016000       |1551.48   |85.06   |1680537367                 |\n",
      "|0.056  |null            |direct        |0.056  |0.05   |0.0505 |1280102400       |877.0     |46.91   |1680537367                 |\n",
      "+-------+----------------+--------------+-------+-------+-------+-----------------+----------+--------+---------------------------+\n",
      "only showing top 10 rows\n",
      "\n"
     ]
    }
   ],
   "source": [
    "# read from ingested csv file and print out first 10 records\n",
    "df = spark.read.csv(rf\"{ROOT_DIR}/data/btc_price.csv\", header=True)\n",
    "df.show(n=10,truncate=False)"
   ]
  },
  {
   "cell_type": "code",
   "execution_count": 43,
   "metadata": {},
   "outputs": [
    {
     "name": "stdout",
     "output_type": "stream",
     "text": [
      "+-------+----------------+--------------+-------+-------+-------+-----------------+----------+--------+---------------------------+\n",
      "|close  |conversionSymbol|conversionType|high   |low    |open   |time (unix epoch)|volumefrom|volumeto|ingestion_date (unix epoch)|\n",
      "+-------+----------------+--------------+-------+-------+-------+-----------------+----------+--------+---------------------------+\n",
      "|0.04951|null            |direct        |0.04951|0.04951|0.04951|1279324800       |20.0      |0.9902  |1680537367                 |\n",
      "|0.08584|null            |direct        |0.08585|0.05941|0.04951|1279411200       |75.01     |5.092   |1680537367                 |\n",
      "|0.0808 |null            |direct        |0.09307|0.07723|0.08584|1279497600       |574.0     |49.66   |1680537367                 |\n",
      "|0.07474|null            |direct        |0.08181|0.07426|0.0808 |1279584000       |262.0     |20.59   |1680537367                 |\n",
      "|0.07921|null            |direct        |0.07921|0.06634|0.07474|1279670400       |575.0     |42.26   |1680537367                 |\n",
      "|0.0505 |null            |direct        |0.08181|0.0505 |0.07921|1279756800       |2160.0    |129.78  |1680537367                 |\n",
      "|0.06262|null            |direct        |0.06767|0.0505 |0.0505 |1279843200       |2402.5    |141.07  |1680537367                 |\n",
      "|0.05454|null            |direct        |0.06161|0.05049|0.06262|1279929600       |496.32    |26.73   |1680537367                 |\n",
      "|0.0505 |null            |direct        |0.05941|0.0505 |0.05454|1280016000       |1551.48   |85.06   |1680537367                 |\n",
      "|0.056  |null            |direct        |0.056  |0.05   |0.0505 |1280102400       |877.0     |46.91   |1680537367                 |\n",
      "+-------+----------------+--------------+-------+-------+-------+-----------------+----------+--------+---------------------------+\n",
      "only showing top 10 rows\n",
      "\n"
     ]
    }
   ],
   "source": [
    "df.show(n=10,truncate=False)"
   ]
  },
  {
   "cell_type": "code",
   "execution_count": 44,
   "metadata": {},
   "outputs": [],
   "source": [
    "# extract necessary columns\n",
    "df = df.select([\"time (unix epoch)\", \"open\", \"close\", \"high\", \"low\", \"volumefrom\", \"volumeto\"])"
   ]
  },
  {
   "cell_type": "code",
   "execution_count": 45,
   "metadata": {},
   "outputs": [
    {
     "data": {
      "text/plain": [
       "[('time (unix epoch)', 'string'),\n",
       " ('open', 'string'),\n",
       " ('close', 'string'),\n",
       " ('high', 'string'),\n",
       " ('low', 'string'),\n",
       " ('volumefrom', 'string'),\n",
       " ('volumeto', 'string')]"
      ]
     },
     "execution_count": 45,
     "metadata": {},
     "output_type": "execute_result"
    }
   ],
   "source": [
    "df.dtypes"
   ]
  },
  {
   "cell_type": "code",
   "execution_count": 46,
   "metadata": {},
   "outputs": [
    {
     "name": "stdout",
     "output_type": "stream",
     "text": [
      "root\n",
      " |-- time (unix epoch): string (nullable = true)\n",
      " |-- open: string (nullable = true)\n",
      " |-- close: string (nullable = true)\n",
      " |-- high: string (nullable = true)\n",
      " |-- low: string (nullable = true)\n",
      " |-- volumefrom: string (nullable = true)\n",
      " |-- volumeto: string (nullable = true)\n",
      "\n"
     ]
    }
   ],
   "source": [
    "df.printSchema()"
   ]
  },
  {
   "cell_type": "code",
   "execution_count": 47,
   "metadata": {},
   "outputs": [
    {
     "name": "stdout",
     "output_type": "stream",
     "text": [
      "+-------+-----------------+-----------------+------------------+-----------------+-----------------+-------------------+\n",
      "|summary|             open|            close|              high|              low|       volumefrom|           volumeto|\n",
      "+-------+-----------------+-----------------+------------------+-----------------+-----------------+-------------------+\n",
      "|  count|             4644|             4644|              4644|             4644|             4644|               4644|\n",
      "|   mean| 8884.76009821274|8890.787505725662| 9126.361142426802|8616.743333591725| 53755.8200258397|4.571101018175594E8|\n",
      "| stddev|14497.42977806838|14499.56102875369|14887.222599703253|14053.78699157709|48758.41070768672|8.097208678497716E8|\n",
      "|    min|          0.04951|          0.04951|           0.04951|             0.01|              0.0|                0.0|\n",
      "|    max|          9999.93|          9999.93|            9990.4|           999.73|         99812.97|         9999594.97|\n",
      "+-------+-----------------+-----------------+------------------+-----------------+-----------------+-------------------+\n",
      "\n"
     ]
    }
   ],
   "source": [
    "# get descriptive statistics for numeric columns\n",
    "df.describe([\"open\", \"close\", \"high\", \"low\", \"volumefrom\", \"volumeto\"]).show()"
   ]
  },
  {
   "cell_type": "code",
   "execution_count": 48,
   "metadata": {},
   "outputs": [
    {
     "name": "stdout",
     "output_type": "stream",
     "text": [
      "+-----------------+-------+-------+-------+-------+----------+--------+\n",
      "|time (unix epoch)|   open|  close|   high|    low|volumefrom|volumeto|\n",
      "+-----------------+-------+-------+-------+-------+----------+--------+\n",
      "|       1279324800|0.04951|0.04951|0.04951|0.04951|      20.0|  0.9902|\n",
      "|       1279411200|0.04951|0.08584|0.08585|0.05941|     75.01|   5.092|\n",
      "|       1279497600|0.08584| 0.0808|0.09307|0.07723|     574.0|   49.66|\n",
      "|       1279584000| 0.0808|0.07474|0.08181|0.07426|     262.0|   20.59|\n",
      "|       1279670400|0.07474|0.07921|0.07921|0.06634|     575.0|   42.26|\n",
      "|       1279756800|0.07921| 0.0505|0.08181| 0.0505|    2160.0|  129.78|\n",
      "|       1279843200| 0.0505|0.06262|0.06767| 0.0505|    2402.5|  141.07|\n",
      "|       1279929600|0.06262|0.05454|0.06161|0.05049|    496.32|   26.73|\n",
      "|       1280016000|0.05454| 0.0505|0.05941| 0.0505|   1551.48|   85.06|\n",
      "|       1280102400| 0.0505|  0.056|  0.056|   0.05|     877.0|   46.91|\n",
      "+-----------------+-------+-------+-------+-------+----------+--------+\n",
      "only showing top 10 rows\n",
      "\n"
     ]
    }
   ],
   "source": [
    "df.show(n=10)"
   ]
  },
  {
   "cell_type": "code",
   "execution_count": 49,
   "metadata": {},
   "outputs": [],
   "source": [
    "# set spark session timezone to UTC to have a uniform reference point for all date related fields\n",
    "from pyspark.sql.functions import to_timestamp\n",
    "spark.conf.set(\"spark.sql.session.timeZone\", \"UTC\")\n",
    "df = df.withColumn(\"date_time (unix)\", from_unixtime(\"time (unix epoch)\", \"yyyy-MM-dd HH:mm:ss\"))\n",
    "spark.conf.unset(\"spark.sql.session.timeZone\")"
   ]
  },
  {
   "cell_type": "code",
   "execution_count": 50,
   "metadata": {},
   "outputs": [
    {
     "name": "stdout",
     "output_type": "stream",
     "text": [
      "+-----------------+-------+-------+-------+-------+----------+--------+-------------------+-------------------+\n",
      "|time (unix epoch)|open   |close  |high   |low    |volumefrom|volumeto|date_time (unix)   |date_time          |\n",
      "+-----------------+-------+-------+-------+-------+----------+--------+-------------------+-------------------+\n",
      "|1279324800       |0.04951|0.04951|0.04951|0.04951|20.0      |0.9902  |2010-07-17 00:00:00|2010-07-16 20:00:00|\n",
      "|1279411200       |0.04951|0.08584|0.08585|0.05941|75.01     |5.092   |2010-07-18 00:00:00|2010-07-17 20:00:00|\n",
      "|1279497600       |0.08584|0.0808 |0.09307|0.07723|574.0     |49.66   |2010-07-19 00:00:00|2010-07-18 20:00:00|\n",
      "|1279584000       |0.0808 |0.07474|0.08181|0.07426|262.0     |20.59   |2010-07-20 00:00:00|2010-07-19 20:00:00|\n",
      "|1279670400       |0.07474|0.07921|0.07921|0.06634|575.0     |42.26   |2010-07-21 00:00:00|2010-07-20 20:00:00|\n",
      "|1279756800       |0.07921|0.0505 |0.08181|0.0505 |2160.0    |129.78  |2010-07-22 00:00:00|2010-07-21 20:00:00|\n",
      "|1279843200       |0.0505 |0.06262|0.06767|0.0505 |2402.5    |141.07  |2010-07-23 00:00:00|2010-07-22 20:00:00|\n",
      "|1279929600       |0.06262|0.05454|0.06161|0.05049|496.32    |26.73   |2010-07-24 00:00:00|2010-07-23 20:00:00|\n",
      "|1280016000       |0.05454|0.0505 |0.05941|0.0505 |1551.48   |85.06   |2010-07-25 00:00:00|2010-07-24 20:00:00|\n",
      "|1280102400       |0.0505 |0.056  |0.056  |0.05   |877.0     |46.91   |2010-07-26 00:00:00|2010-07-25 20:00:00|\n",
      "+-----------------+-------+-------+-------+-------+----------+--------+-------------------+-------------------+\n",
      "only showing top 10 rows\n",
      "\n"
     ]
    }
   ],
   "source": [
    "# timezone will default to system timezone (Easter Standard Time) in absence of specific spark.sql.session.timeZone setting\n",
    "df.withColumn(\"date_time\", from_unixtime(\"time (unix epoch)\", \"yyyy-MM-dd HH:mm:ss\")).show(n=10, truncate=False)"
   ]
  },
  {
   "attachments": {},
   "cell_type": "markdown",
   "metadata": {},
   "source": [
    "#### Create a new dataframe with a column called HV Ratio that is the ratio of the High Price versus volume of stock traded for a day"
   ]
  },
  {
   "cell_type": "code",
   "execution_count": 51,
   "metadata": {},
   "outputs": [
    {
     "name": "stdout",
     "output_type": "stream",
     "text": [
      "+-----------------+--------+--------+--------+--------+----------+--------------+-------------------+------------------+\n",
      "|time (unix epoch)|open    |close   |high    |low     |volumefrom|volumeto      |date_time (unix)   |HV Ratio          |\n",
      "+-----------------+--------+--------+--------+--------+----------+--------------+-------------------+------------------+\n",
      "|1650067200       |40563.69|40392.55|40698.01|40019.08|7771.05   |3.1387594114E8|2022-04-16 00:00:00|5.237131404379074 |\n",
      "|1636761600       |64156.3 |64409.56|64967.34|63406.98|12719.98  |8.1599786399E8|2021-11-13 00:00:00|5.107503313684456 |\n",
      "|1649462400       |42273.38|42768.61|42813.04|42136.04|9050.96   |3.8417149887E8|2022-04-09 00:00:00|4.730220882646703 |\n",
      "|1636848000       |64409.56|65509.06|65509.06|63616.33|14680.72  |9.4730370623E8|2021-11-14 00:00:00|4.4622511702423315|\n",
      "|1640390400       |50840.36|50431.63|51158.56|50199.56|11532.27  |5.8581899715E8|2021-12-25 00:00:00|4.43612228988742  |\n",
      "|1636243200       |61529.76|63302.78|63309.57|61406.56|14937.9   |9.2957198379E8|2021-11-07 00:00:00|4.2381840820998935|\n",
      "|1650153600       |40392.55|39688.16|40602.63|39563.9 |9701.08   |3.8989319953E8|2022-04-17 00:00:00|4.185372144132406 |\n",
      "|1637452800       |59769.66|58700.83|60058.65|58575.6 |14990.7   |8.8804505617E8|2021-11-21 00:00:00|4.00639396425784  |\n",
      "|1636156800       |61019.66|61529.76|61594.16|60130.85|15432.25  |9.3953005187E8|2021-11-06 00:00:00|3.9912624536279546|\n",
      "|1635552000       |62282.5 |61891.91|62371.52|60774.38|15917.35  |9.7998709561E8|2021-10-30 00:00:00|3.9184613016613943|\n",
      "|1648252800       |44331.36|44542.31|44811.3 |44108.04|11559.16  |5.1340229727E8|2022-03-26 00:00:00|3.8766917319251575|\n",
      "|1630108800       |49088.1 |48918.9 |49306.47|48386.9 |12815.36  |6.265538693E8 |2021-08-28 00:00:00|3.8474510275169798|\n",
      "|1634947200       |60693.59|61313.09|61733.43|59705.11|16232.5   |9.9036007185E8|2021-10-23 00:00:00|3.803075927922378 |\n",
      "|1633737600       |53949.29|54968.04|55485.2 |53696.32|14593.95  |7.9960723861E8|2021-10-09 00:00:00|3.801931622350357 |\n",
      "|1641081600       |47737.35|47306.41|47979.26|46666.18|13025.66  |6.1545342693E8|2022-01-02 00:00:00|3.683441760340743 |\n",
      "|1637366400       |58136.22|59769.66|59901.9 |57450.63|16773.71  |9.850751737E8 |2021-11-20 00:00:00|3.5711777537587097|\n",
      "|1640476800       |50431.63|50790.88|51283.7 |49485.62|14663.26  |7.3661776186E8|2021-12-26 00:00:00|3.4974282662927614|\n",
      "|1650672000       |39716.04|39445.97|39988.54|39305.67|11481.51  |4.556596378E8 |2022-04-23 00:00:00|3.482864187724437 |\n",
      "|1645228800       |39994.66|40107.12|40464.62|39664.71|11674.81  |4.6774410972E8|2022-02-19 00:00:00|3.465976748229736 |\n",
      "|1642291200       |43088.74|43100.36|43484.21|42617.07|12615.04  |5.4362092925E8|2022-01-16 00:00:00|3.4470132476789606|\n",
      "+-----------------+--------+--------+--------+--------+----------+--------------+-------------------+------------------+\n",
      "only showing top 20 rows\n",
      "\n"
     ]
    }
   ],
   "source": [
    "df2 = df.withColumn(\"HV Ratio\", col(\"high\")/col(\"volumefrom\"))\n",
    "\n",
    "# display dataframe in descending order of HV Ratio\n",
    "df2.sort(\"HV Ratio\", ascending=False).show(truncate=False)"
   ]
  },
  {
   "cell_type": "code",
   "execution_count": 52,
   "metadata": {},
   "outputs": [
    {
     "name": "stdout",
     "output_type": "stream",
     "text": [
      "+-----------------+--------+--------+--------+--------+----------+---------------+-------------------+-------------------+\n",
      "|time (unix epoch)|open    |close   |high    |low     |volumefrom|volumeto       |date_time (unix)   |HV Ratio           |\n",
      "+-----------------+--------+--------+--------+--------+----------+---------------+-------------------+-------------------+\n",
      "|1680480000       |28186.76|28010.51|28494.64|27604.93|30752.38  |8.6393430202E8 |2023-04-03 00:00:00|0.9265832433132004 |\n",
      "|1680393600       |28465.3 |28186.76|28538.36|27880.95|21016.25  |5.9258107246E8 |2023-04-02 00:00:00|1.3579187533456254 |\n",
      "|1680307200       |28477.29|28465.3 |28810.95|28265.42|19774.03  |5.6329940551E8 |2023-04-01 00:00:00|1.4570095220852806 |\n",
      "|1680220800       |28037.46|28477.29|28650.47|27541.23|50916.39  |1.43674028379E9|2023-03-31 00:00:00|0.5626964126875452 |\n",
      "|1680134400       |28355.87|28037.46|29172.9 |27731.64|63033.78  |1.79002247511E9|2023-03-30 00:00:00|0.4628137484377425 |\n",
      "|1680048000       |27274.9 |28355.87|28640.99|27261.75|52216.18  |1.47107639838E9|2023-03-29 00:00:00|0.5485079528988908 |\n",
      "|1679961600       |27145.09|27274.9 |27501.44|26660.19|38686.66  |1.04655123393E9|2023-03-28 00:00:00|0.7108765657205868 |\n",
      "|1679875200       |27996.81|27145.09|28044.15|26565.75|48705.37  |1.33245454599E9|2023-03-27 00:00:00|0.5757917453455338 |\n",
      "|1679788800       |27493.43|27996.81|28212.64|27447.43|29291.76  |8.1518627578E8 |2023-03-26 00:00:00|0.9631596052951411 |\n",
      "|1679702400       |27491.73|27493.43|27810.74|27188.56|26897.42  |7.3983581014E8 |2023-03-25 00:00:00|1.0339556730719899 |\n",
      "|1679616000       |28345.69|27491.73|28417.0 |27047.96|56653.76  |1.58051710941E9|2023-03-24 00:00:00|0.5015907152499675 |\n",
      "|1679529600       |27317.37|28345.69|28810.23|27188.53|69232.03  |1.93823226808E9|2023-03-23 00:00:00|0.4161401882914599 |\n",
      "|1679443200       |28185.99|27317.37|28877.16|26681.65|85640.26  |2.40026112773E9|2023-03-22 00:00:00|0.3371914097411661 |\n",
      "|1679356800       |27807.29|28185.99|28498.09|27411.61|47709.66  |1.33896560135E9|2023-03-21 00:00:00|0.5973232674473051 |\n",
      "|1679270400       |28037.32|27807.29|28534.79|27229.43|65776.48  |1.83705337408E9|2023-03-20 00:00:00|0.43381448809665707|\n",
      "|1679184000       |26973.38|28037.32|28448.08|26902.0 |48141.92  |1.33730393931E9|2023-03-19 00:00:00|0.5909211763884781 |\n",
      "|1679097600       |27440.55|26973.38|27746.59|26658.45|48417.21  |1.32401989623E9|2023-03-18 00:00:00|0.5730728804902224 |\n",
      "|1679011200       |25051.31|27440.55|27784.36|24945.47|96356.43  |2.55314278058E9|2023-03-17 00:00:00|0.288349827821558  |\n",
      "|1678924800       |24369.16|25051.31|25210.61|24221.04|55375.79  |1.37214704917E9|2023-03-16 00:00:00|0.4552641145164701 |\n",
      "|1678838400       |24758.71|24369.16|25249.88|23950.43|74030.83  |1.82429987463E9|2023-03-15 00:00:00|0.3410724964180464 |\n",
      "+-----------------+--------+--------+--------+--------+----------+---------------+-------------------+-------------------+\n",
      "only showing top 20 rows\n",
      "\n"
     ]
    }
   ],
   "source": [
    "# sort by date_time (unix) in descending order to get HV Ratiio for most recent dates\n",
    "df2.sort(\"date_time (unix)\", ascending=False).show(truncate=False)"
   ]
  },
  {
   "cell_type": "code",
   "execution_count": null,
   "metadata": {},
   "outputs": [],
   "source": []
  }
 ],
 "metadata": {
  "kernelspec": {
   "display_name": "Python 3",
   "language": "python",
   "name": "python3"
  },
  "language_info": {
   "codemirror_mode": {
    "name": "ipython",
    "version": 3
   },
   "file_extension": ".py",
   "mimetype": "text/x-python",
   "name": "python",
   "nbconvert_exporter": "python",
   "pygments_lexer": "ipython3",
   "version": "3.11.0"
  },
  "orig_nbformat": 4,
  "vscode": {
   "interpreter": {
    "hash": "0c62ecade22fff4c1d31446e36615b3ce67a81b5933d46e8d3b7993b34a0b8fe"
   }
  }
 },
 "nbformat": 4,
 "nbformat_minor": 2
}
