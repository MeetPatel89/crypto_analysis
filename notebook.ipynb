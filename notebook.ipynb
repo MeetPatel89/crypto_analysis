{
 "cells": [
  {
   "cell_type": "code",
   "execution_count": 40,
   "metadata": {},
   "outputs": [],
   "source": [
    "import pandas as pd\n",
    "import numpy as np\n",
    "%matplotlib inline\n",
    "import config \n",
    "import sql_con\n",
    "from requests import Session\n",
    "from requests.exceptions import ConnectionError, Timeout, TooManyRedirects\n",
    "import json\n",
    "import csv"
   ]
  },
  {
   "cell_type": "code",
   "execution_count": 41,
   "metadata": {},
   "outputs": [],
   "source": [
    "# get module variables\n",
    "ROOT_DIR = config.ROOT_DIR\n",
    "select_records = sql_con.select_records\n",
    "insert_records = sql_con.insert_records\n",
    "update_records = sql_con.update_records\n",
    "conn_odbc = sql_con.conn_odbc\n",
    "read_contents = sql_con.read_contents"
   ]
  },
  {
   "cell_type": "code",
   "execution_count": 42,
   "metadata": {},
   "outputs": [],
   "source": [
    "# function to make calls to cryptocompare API\n",
    "def get_data(url, parameters, headers):\n",
    "    session = Session()\n",
    "    session.headers.update(headers)\n",
    "    try:\n",
    "        response = session.get(url, params=parameters)\n",
    "        data = json.loads(response.text)\n",
    "        return data\n",
    "    except (ConnectionError, Timeout, TooManyRedirects) as e:\n",
    "        print(e)"
   ]
  },
  {
   "cell_type": "code",
   "execution_count": 43,
   "metadata": {},
   "outputs": [],
   "source": [
    "# function to get api data for top 10 coins\n",
    "def get_coin_data(coin_list, url, headers):\n",
    "    coin_data = []\n",
    "    parameters = { \n",
    "        \"tsym\":\"USD\",\n",
    "        \"allData\":\"true\"\n",
    "    }\n",
    "    for coin in coin_list:\n",
    "        parameters[\"fsym\"] = coin\n",
    "        res_json = get_data(url, parameters, headers)\n",
    "        data = res_json[\"Data\"]\n",
    "        # iterate through the data and add the coin name to each row\n",
    "        for row in data:\n",
    "            row[\"symbol\"] = coin\n",
    "        coin_data.extend(data)\n",
    "    return coin_data"
   ]
  },
  {
   "cell_type": "code",
   "execution_count": 44,
   "metadata": {},
   "outputs": [],
   "source": [
    "# authorization header for making calls to crypto compare API\n",
    "# read api key from config file using dotev module\n",
    "headers = {\n",
    "  \"authorization\": f\"Apikey {config.API_KEY}\"\n",
    "}"
   ]
  },
  {
   "cell_type": "code",
   "execution_count": 45,
   "metadata": {},
   "outputs": [],
   "source": [
    "# relevant urls for making calls to crypto compare API\n",
    "top10_url = \"https://min-api.cryptocompare.com/data/top/mktcapfull\"\n",
    "hist_url = \"https://min-api.cryptocompare.com/data/histoday\""
   ]
  },
  {
   "cell_type": "code",
   "execution_count": 46,
   "metadata": {},
   "outputs": [],
   "source": [
    "# get top 10 coins by market cap, capture json response\n",
    "parameters = {\n",
    "  \"tsym\":\"USD\",\n",
    "  \"limit\": 10\n",
    "}\n",
    "\n",
    "res_json_top10 = get_data(top10_url, parameters, headers)\n",
    "data_top10 = res_json_top10[\"Data\"]"
   ]
  },
  {
   "cell_type": "code",
   "execution_count": 47,
   "metadata": {},
   "outputs": [],
   "source": [
    "# capture top 10 coins in a list of dictionaries and write to json file (ingestion layer)\n",
    "top10_coins = [{\"Name\": coin[\"CoinInfo\"][\"Name\"], \"FullName\": coin[\"CoinInfo\"][\"FullName\"], \"Algorithm\": coin[\"CoinInfo\"][\"Algorithm\"], \"ProofType\": coin[\"CoinInfo\"][\"ProofType\"]} for coin in data_top10]\n",
    "with open(rf\"{ROOT_DIR}/data/top10_coins.json\", \"w\") as f:\n",
    "    f.write(json.dumps(top10_coins))"
   ]
  },
  {
   "cell_type": "code",
   "execution_count": 48,
   "metadata": {},
   "outputs": [],
   "source": [
    "# make request to cryptocompare api to get historical data for bitcoin quote prices in USD\n",
    "\n",
    "# parameters = {\n",
    "#   \"fsym\": \"BTC\",\n",
    "#   \"tsym\":\"USD\",\n",
    "#   \"allData\":\"true\"\n",
    "# }\n",
    "\n",
    "# res_json = get_data(hist_url, parameters, headers)\n",
    "# data = res_json[\"Data\"]"
   ]
  },
  {
   "cell_type": "code",
   "execution_count": 49,
   "metadata": {},
   "outputs": [],
   "source": [
    "import findspark\n",
    "findspark.init()"
   ]
  },
  {
   "cell_type": "code",
   "execution_count": 50,
   "metadata": {},
   "outputs": [],
   "source": [
    "# spark session start to begin transforming data (processing layer)\n",
    "from pyspark.sql import SparkSession\n",
    "spark=SparkSession.builder.appName(\"crypto_analysis\").getOrCreate()"
   ]
  },
  {
   "cell_type": "code",
   "execution_count": 51,
   "metadata": {},
   "outputs": [
    {
     "name": "stdout",
     "output_type": "stream",
     "text": [
      "+----+------------+---------+---------+\n",
      "|Name|FullName    |Algorithm|ProofType|\n",
      "+----+------------+---------+---------+\n",
      "|BTC |Bitcoin     |SHA-256  |PoW      |\n",
      "|ETH |Ethereum    |Ethash   |PoS      |\n",
      "|USDT|Tether      |N/A      |N/A      |\n",
      "|XRP |XRP         |N/A      |XRP LCP  |\n",
      "|BNB |Binance Coin|BEP-2    |PoSA     |\n",
      "|USDC|USD Coin    |N/A      |N/A      |\n",
      "|ADA |Cardano     |Ouroboros|PoS      |\n",
      "|DOGE|Dogecoin    |Scrypt   |PoW      |\n",
      "|ARB |Arbitrum    |N/A      |N/A      |\n",
      "|APT |Aptos       |N/A      |N/A      |\n",
      "+----+------------+---------+---------+\n",
      "\n"
     ]
    }
   ],
   "source": [
    "from pyspark.sql.types import StructType, StructField, StringType, LongType, DoubleType\n",
    "\n",
    "schema = StructType([\n",
    "    StructField(\"Name\", StringType(), True),\n",
    "    StructField(\"FullName\", StringType(), True),\n",
    "    StructField(\"Algorithm\", StringType(), True),\n",
    "    StructField(\"ProofType\", StringType(), True)\n",
    "])\n",
    "df_top10 = spark.read.option(\"schema\", schema).json(rf\"{ROOT_DIR}\\data\\top10_coins.json\").select(\"Name\", \"FullName\", \"Algorithm\", \"ProofType\")\n",
    "df_top10.show(truncate=False)"
   ]
  },
  {
   "cell_type": "code",
   "execution_count": 52,
   "metadata": {},
   "outputs": [
    {
     "data": {
      "text/plain": [
       "['BTC', 'ETH', 'USDT', 'XRP', 'BNB', 'USDC', 'ADA', 'DOGE', 'ARB', 'APT']"
      ]
     },
     "execution_count": 52,
     "metadata": {},
     "output_type": "execute_result"
    }
   ],
   "source": [
    "coin_list = df_top10.rdd.map(lambda x: x[0]).collect()\n",
    "coin_list"
   ]
  },
  {
   "cell_type": "code",
   "execution_count": 53,
   "metadata": {},
   "outputs": [],
   "source": [
    "# read historical data for top 10 coins from cryptocompare API\n",
    "all_coins_data = get_coin_data(coin_list, hist_url, headers)"
   ]
  },
  {
   "cell_type": "code",
   "execution_count": 54,
   "metadata": {},
   "outputs": [],
   "source": [
    "# capture data from reponse and write to json file (ingestion layer)\n",
    "with open(rf\"{ROOT_DIR}\\data\\all_coins_data.json\", \"w\") as f:\n",
    "    f.write(json.dumps(all_coins_data))"
   ]
  },
  {
   "cell_type": "code",
   "execution_count": 55,
   "metadata": {},
   "outputs": [
    {
     "name": "stdout",
     "output_type": "stream",
     "text": [
      "+-------+----------------+--------------+-------+-------+-------+------+----------+----------+--------+\n",
      "|  close|conversionSymbol|conversionType|   high|    low|   open|symbol|      time|volumefrom|volumeto|\n",
      "+-------+----------------+--------------+-------+-------+-------+------+----------+----------+--------+\n",
      "|0.04951|                |        direct|0.04951|0.04951|0.04951|   BTC|1279324800|      20.0|  0.9902|\n",
      "|0.08584|                |        direct|0.08585|0.05941|0.04951|   BTC|1279411200|     75.01|   5.092|\n",
      "| 0.0808|                |        direct|0.09307|0.07723|0.08584|   BTC|1279497600|     574.0|   49.66|\n",
      "|0.07474|                |        direct|0.08181|0.07426| 0.0808|   BTC|1279584000|     262.0|   20.59|\n",
      "|0.07921|                |        direct|0.07921|0.06634|0.07474|   BTC|1279670400|     575.0|   42.26|\n",
      "| 0.0505|                |        direct|0.08181| 0.0505|0.07921|   BTC|1279756800|    2160.0|  129.78|\n",
      "|0.06262|                |        direct|0.06767| 0.0505| 0.0505|   BTC|1279843200|    2402.5|  141.07|\n",
      "|0.05454|                |        direct|0.06161|0.05049|0.06262|   BTC|1279929600|    496.32|   26.73|\n",
      "| 0.0505|                |        direct|0.05941| 0.0505|0.05454|   BTC|1280016000|   1551.48|   85.06|\n",
      "|  0.056|                |        direct|  0.056|   0.05| 0.0505|   BTC|1280102400|     877.0|   46.91|\n",
      "+-------+----------------+--------------+-------+-------+-------+------+----------+----------+--------+\n",
      "only showing top 10 rows\n",
      "\n"
     ]
    }
   ],
   "source": [
    "# read ingested json file and print out first 10 records\n",
    "\n",
    "schema = StructType([\n",
    "    StructField(\"symbol\", StringType(), True),\n",
    "    StructField(\"time\", LongType(), True),\n",
    "    StructField(\"close\", DoubleType(), True),\n",
    "    StructField(\"high\", DoubleType(), True),\n",
    "    StructField(\"low\", DoubleType(), True),\n",
    "    StructField(\"open\", DoubleType(), True),\n",
    "    StructField(\"volumefrom\", DoubleType(), True),\n",
    "    StructField(\"volumeto\", DoubleType(), True),\n",
    "    StructField(\"conversionType\", StringType(), True),\n",
    "    StructField(\"conversionSymbol\", StringType(), True)\n",
    "])\n",
    "\n",
    "df = spark.read.option(\"schema\", schema).json(rf\"{ROOT_DIR}/data/all_coins_data.json\")\n",
    "df.show(n=10)"
   ]
  },
  {
   "cell_type": "code",
   "execution_count": 56,
   "metadata": {},
   "outputs": [
    {
     "name": "stdout",
     "output_type": "stream",
     "text": [
      "root\n",
      " |-- close: double (nullable = true)\n",
      " |-- conversionSymbol: string (nullable = true)\n",
      " |-- conversionType: string (nullable = true)\n",
      " |-- high: double (nullable = true)\n",
      " |-- low: double (nullable = true)\n",
      " |-- open: double (nullable = true)\n",
      " |-- symbol: string (nullable = true)\n",
      " |-- time: long (nullable = true)\n",
      " |-- volumefrom: double (nullable = true)\n",
      " |-- volumeto: double (nullable = true)\n",
      "\n"
     ]
    }
   ],
   "source": [
    "df.printSchema()"
   ]
  },
  {
   "cell_type": "code",
   "execution_count": 57,
   "metadata": {},
   "outputs": [],
   "source": [
    "# get ingestion date as current unix epoch time\n",
    "# write data to csv file after adding ingestion date (csv ingestion point for data pipeline)\n",
    "from pyspark.sql.functions import unix_timestamp, from_unixtime, col\n",
    "\n",
    "df = df.withColumn(\"ingestion_date (unix epoch)\", unix_timestamp()).withColumnRenamed(\"time\", \"time (unix epoch)\")"
   ]
  },
  {
   "cell_type": "code",
   "execution_count": 58,
   "metadata": {},
   "outputs": [],
   "source": [
    "# change column names for volumes to be more descriptive\n",
    "df = df.withColumnRenamed(\"volumefrom\", \"volume (Crypto Units)\").withColumnRenamed(\"volumeto\", \"volume (USD)\")"
   ]
  },
  {
   "cell_type": "code",
   "execution_count": 59,
   "metadata": {},
   "outputs": [],
   "source": [
    "df.write.mode(\"overwrite\").option(\"quote\", \"\\u0000\").option(\"emptyValue\", \"\").csv(rf\"{ROOT_DIR}/data/all_coins_data.csv\", header=True)"
   ]
  },
  {
   "cell_type": "code",
   "execution_count": 60,
   "metadata": {},
   "outputs": [
    {
     "name": "stdout",
     "output_type": "stream",
     "text": [
      "+-------+----------------+--------------+-------+-------+-------+------+-----------------+---------------------+------------+---------------------------+\n",
      "|close  |conversionSymbol|conversionType|high   |low    |open   |symbol|time (unix epoch)|volume (Crypto Units)|volume (USD)|ingestion_date (unix epoch)|\n",
      "+-------+----------------+--------------+-------+-------+-------+------+-----------------+---------------------+------------+---------------------------+\n",
      "|0.04951|null            |direct        |0.04951|0.04951|0.04951|BTC   |1279324800       |20.0                 |0.9902      |1680648291                 |\n",
      "|0.08584|null            |direct        |0.08585|0.05941|0.04951|BTC   |1279411200       |75.01                |5.092       |1680648291                 |\n",
      "|0.0808 |null            |direct        |0.09307|0.07723|0.08584|BTC   |1279497600       |574.0                |49.66       |1680648291                 |\n",
      "|0.07474|null            |direct        |0.08181|0.07426|0.0808 |BTC   |1279584000       |262.0                |20.59       |1680648291                 |\n",
      "|0.07921|null            |direct        |0.07921|0.06634|0.07474|BTC   |1279670400       |575.0                |42.26       |1680648291                 |\n",
      "|0.0505 |null            |direct        |0.08181|0.0505 |0.07921|BTC   |1279756800       |2160.0               |129.78      |1680648291                 |\n",
      "|0.06262|null            |direct        |0.06767|0.0505 |0.0505 |BTC   |1279843200       |2402.5               |141.07      |1680648291                 |\n",
      "|0.05454|null            |direct        |0.06161|0.05049|0.06262|BTC   |1279929600       |496.32               |26.73       |1680648291                 |\n",
      "|0.0505 |null            |direct        |0.05941|0.0505 |0.05454|BTC   |1280016000       |1551.48              |85.06       |1680648291                 |\n",
      "|0.056  |null            |direct        |0.056  |0.05   |0.0505 |BTC   |1280102400       |877.0                |46.91       |1680648291                 |\n",
      "+-------+----------------+--------------+-------+-------+-------+------+-----------------+---------------------+------------+---------------------------+\n",
      "only showing top 10 rows\n",
      "\n"
     ]
    }
   ],
   "source": [
    "# read from ingested csv file and print out first 10 records\n",
    "schema = StructType([\n",
    "    StructField(\"close\", DoubleType(), True),\n",
    "    StructField(\"conversionSymbol\", StringType(), True),\n",
    "    StructField(\"conversionType\", StringType(), True),\n",
    "    StructField(\"high\", DoubleType(), True),\n",
    "    StructField(\"low\", DoubleType(), True),\n",
    "    StructField(\"open\", DoubleType(), True),\n",
    "    StructField(\"symbol\", StringType(), True),\n",
    "    StructField(\"time (unix epoch)\", LongType(), True),\n",
    "    StructField(\"volume (Crypto Units)\", DoubleType(), True),\n",
    "    StructField(\"volume (USD)\", DoubleType(), True),\n",
    "    StructField(\"ingestion_date (unix epoch)\", LongType(), True)\n",
    "])\n",
    "\n",
    "df = spark.read.format(\"csv\").option(\"header\", \"true\").option(\"delimiter\", \",\").schema(schema).load(rf\"{ROOT_DIR}/data/all_coins_data.csv\")\n",
    "#df = spark.read.csv(rf\"{ROOT_DIR}/data/all_coins_data.csv\", header=True)\n",
    "df.show(n=10,truncate=False)"
   ]
  },
  {
   "cell_type": "code",
   "execution_count": 61,
   "metadata": {},
   "outputs": [
    {
     "name": "stdout",
     "output_type": "stream",
     "text": [
      "root\n",
      " |-- close: double (nullable = true)\n",
      " |-- conversionSymbol: string (nullable = true)\n",
      " |-- conversionType: string (nullable = true)\n",
      " |-- high: double (nullable = true)\n",
      " |-- low: double (nullable = true)\n",
      " |-- open: double (nullable = true)\n",
      " |-- symbol: string (nullable = true)\n",
      " |-- time (unix epoch): long (nullable = true)\n",
      " |-- volume (Crypto Units): double (nullable = true)\n",
      " |-- volume (USD): double (nullable = true)\n",
      " |-- ingestion_date (unix epoch): long (nullable = true)\n",
      "\n"
     ]
    }
   ],
   "source": [
    "df.printSchema()"
   ]
  },
  {
   "cell_type": "code",
   "execution_count": 62,
   "metadata": {},
   "outputs": [
    {
     "data": {
      "text/plain": [
       "[('symbol', 'string'),\n",
       " ('time (unix epoch)', 'bigint'),\n",
       " ('open', 'double'),\n",
       " ('close', 'double'),\n",
       " ('high', 'double'),\n",
       " ('low', 'double'),\n",
       " ('volume (Crypto Units)', 'double'),\n",
       " ('volume (USD)', 'double')]"
      ]
     },
     "execution_count": 62,
     "metadata": {},
     "output_type": "execute_result"
    }
   ],
   "source": [
    "# extract necessary columns\n",
    "df = df.select([\"symbol\", \"time (unix epoch)\", \"open\", \"close\", \"high\", \"low\", \"volume (Crypto Units)\", \"volume (USD)\"])\n",
    "df.dtypes"
   ]
  },
  {
   "cell_type": "code",
   "execution_count": 63,
   "metadata": {},
   "outputs": [
    {
     "name": "stdout",
     "output_type": "stream",
     "text": [
      "+-------+-----------------+-----------------+------------------+-----------------+---------------------+-------------------+\n",
      "|summary|             open|            close|              high|              low|volume (Crypto Units)|       volume (USD)|\n",
      "+-------+-----------------+-----------------+------------------+-----------------+---------------------+-------------------+\n",
      "|  count|            46450|            46450|             46450|            46450|                46450|              46450|\n",
      "|   mean| 945.719361304651| 946.368930028182| 971.7991685467883|  916.80884632498|   2.46980383910216E7|8.732416636785641E7|\n",
      "| stddev|5304.725793909023|5306.231182692769|5447.8031052766855|5142.940414625725|  1.599152922706572E8|3.517185911519397E8|\n",
      "|    min|              0.0|              0.0|               0.0|              0.0|                  0.0|                0.0|\n",
      "|    max|         67549.14|         67549.14|          68978.64|         66312.42|    1.153458176332E10|  1.112022085477E10|\n",
      "+-------+-----------------+-----------------+------------------+-----------------+---------------------+-------------------+\n",
      "\n"
     ]
    }
   ],
   "source": [
    "# get descriptive statistics for numeric columns\n",
    "df.describe([\"open\", \"close\", \"high\", \"low\", \"volume (Crypto Units)\", \"volume (USD)\"]).show()"
   ]
  },
  {
   "cell_type": "code",
   "execution_count": 64,
   "metadata": {},
   "outputs": [
    {
     "name": "stdout",
     "output_type": "stream",
     "text": [
      "+------+-----------------+-------+-------+-------+-------+---------------------+------------+\n",
      "|symbol|time (unix epoch)|   open|  close|   high|    low|volume (Crypto Units)|volume (USD)|\n",
      "+------+-----------------+-------+-------+-------+-------+---------------------+------------+\n",
      "|   BTC|       1279324800|0.04951|0.04951|0.04951|0.04951|                 20.0|      0.9902|\n",
      "|   BTC|       1279411200|0.04951|0.08584|0.08585|0.05941|                75.01|       5.092|\n",
      "|   BTC|       1279497600|0.08584| 0.0808|0.09307|0.07723|                574.0|       49.66|\n",
      "|   BTC|       1279584000| 0.0808|0.07474|0.08181|0.07426|                262.0|       20.59|\n",
      "|   BTC|       1279670400|0.07474|0.07921|0.07921|0.06634|                575.0|       42.26|\n",
      "|   BTC|       1279756800|0.07921| 0.0505|0.08181| 0.0505|               2160.0|      129.78|\n",
      "|   BTC|       1279843200| 0.0505|0.06262|0.06767| 0.0505|               2402.5|      141.07|\n",
      "|   BTC|       1279929600|0.06262|0.05454|0.06161|0.05049|               496.32|       26.73|\n",
      "|   BTC|       1280016000|0.05454| 0.0505|0.05941| 0.0505|              1551.48|       85.06|\n",
      "|   BTC|       1280102400| 0.0505|  0.056|  0.056|   0.05|                877.0|       46.91|\n",
      "+------+-----------------+-------+-------+-------+-------+---------------------+------------+\n",
      "only showing top 10 rows\n",
      "\n"
     ]
    }
   ],
   "source": [
    "df.show(n=10)"
   ]
  },
  {
   "cell_type": "code",
   "execution_count": 65,
   "metadata": {},
   "outputs": [],
   "source": [
    "# set spark session timezone to UTC to have a uniform reference point for all date related fields\n",
    "spark.conf.set(\"spark.sql.session.timeZone\", \"UTC\")\n",
    "df = df.withColumn(\"date_time (unix)\", from_unixtime(\"time (unix epoch)\", \"yyyy-MM-dd HH:mm:ss\"))\n",
    "spark.conf.unset(\"spark.sql.session.timeZone\")"
   ]
  },
  {
   "cell_type": "code",
   "execution_count": 66,
   "metadata": {},
   "outputs": [
    {
     "name": "stdout",
     "output_type": "stream",
     "text": [
      "+------+-----------------+-------+-------+-------+-------+---------------------+------------+-------------------+-------------------+\n",
      "|symbol|time (unix epoch)|open   |close  |high   |low    |volume (Crypto Units)|volume (USD)|date_time (unix)   |date_time          |\n",
      "+------+-----------------+-------+-------+-------+-------+---------------------+------------+-------------------+-------------------+\n",
      "|BTC   |1279324800       |0.04951|0.04951|0.04951|0.04951|20.0                 |0.9902      |2010-07-17 00:00:00|2010-07-16 20:00:00|\n",
      "|BTC   |1279411200       |0.04951|0.08584|0.08585|0.05941|75.01                |5.092       |2010-07-18 00:00:00|2010-07-17 20:00:00|\n",
      "|BTC   |1279497600       |0.08584|0.0808 |0.09307|0.07723|574.0                |49.66       |2010-07-19 00:00:00|2010-07-18 20:00:00|\n",
      "|BTC   |1279584000       |0.0808 |0.07474|0.08181|0.07426|262.0                |20.59       |2010-07-20 00:00:00|2010-07-19 20:00:00|\n",
      "|BTC   |1279670400       |0.07474|0.07921|0.07921|0.06634|575.0                |42.26       |2010-07-21 00:00:00|2010-07-20 20:00:00|\n",
      "|BTC   |1279756800       |0.07921|0.0505 |0.08181|0.0505 |2160.0               |129.78      |2010-07-22 00:00:00|2010-07-21 20:00:00|\n",
      "|BTC   |1279843200       |0.0505 |0.06262|0.06767|0.0505 |2402.5               |141.07      |2010-07-23 00:00:00|2010-07-22 20:00:00|\n",
      "|BTC   |1279929600       |0.06262|0.05454|0.06161|0.05049|496.32               |26.73       |2010-07-24 00:00:00|2010-07-23 20:00:00|\n",
      "|BTC   |1280016000       |0.05454|0.0505 |0.05941|0.0505 |1551.48              |85.06       |2010-07-25 00:00:00|2010-07-24 20:00:00|\n",
      "|BTC   |1280102400       |0.0505 |0.056  |0.056  |0.05   |877.0                |46.91       |2010-07-26 00:00:00|2010-07-25 20:00:00|\n",
      "+------+-----------------+-------+-------+-------+-------+---------------------+------------+-------------------+-------------------+\n",
      "only showing top 10 rows\n",
      "\n"
     ]
    }
   ],
   "source": [
    "# timezone will default to system timezone (Easter Standard Time) in absence of specific spark.sql.session.timeZone setting\n",
    "df.withColumn(\"date_time\", from_unixtime(\"time (unix epoch)\", \"yyyy-MM-dd HH:mm:ss\")).show(n=10, truncate=False)"
   ]
  },
  {
   "attachments": {},
   "cell_type": "markdown",
   "metadata": {},
   "source": [
    "#### Create a new dataframe with a column called HV Ratio that is the ratio of the High Price versus volume(USD) of stock traded for a day"
   ]
  },
  {
   "cell_type": "code",
   "execution_count": 67,
   "metadata": {},
   "outputs": [
    {
     "name": "stdout",
     "output_type": "stream",
     "text": [
      "+------+-----------------+------+------+------+------+---------------------+------------+-------------------+------------------+\n",
      "|symbol|time (unix epoch)|open  |close |high  |low   |volume (Crypto Units)|volume (USD)|date_time (unix)   |HV Ratio          |\n",
      "+------+-----------------+------+------+------+------+---------------------+------------+-------------------+------------------+\n",
      "|USDT  |1441152000       |0.96  |1.15  |1.15  |0.96  |1.252E-4             |1.44E-4     |2015-09-02 00:00:00|7986.11111111111  |\n",
      "|USDT  |1424476800       |1.15  |1.5   |1.5   |1.15  |1.415E-4             |2.122E-4    |2015-02-21 00:00:00|7068.80301602262  |\n",
      "|USDT  |1456185600       |1.1   |1.1   |1.1   |1.1   |1.518E-4             |1.67E-4     |2016-02-23 00:00:00|6586.82634730539  |\n",
      "|USDT  |1420761600       |1.0   |1.0   |1.0   |1.0   |2.4E-4               |2.4E-4      |2015-01-09 00:00:00|4166.666666666667 |\n",
      "|USDT  |1422662400       |0.9274|4.37  |4.37  |0.874 |0.005                |0.02185     |2015-01-31 00:00:00|200.0             |\n",
      "|USDT  |1455667200       |1.1   |1.1   |1.1   |1.1   |0.0055               |0.00605     |2016-02-17 00:00:00|181.81818181818184|\n",
      "|USDT  |1420934400       |0.9021|0.9002|0.9002|0.8737|0.03                 |0.02701     |2015-01-11 00:00:00|33.32839689004073 |\n",
      "|USDT  |1466121600       |2.055 |2.009 |2.009 |2.009 |0.0373               |0.07492     |2016-06-17 00:00:00|26.81526962092899 |\n",
      "|USDT  |1466467200       |1.982 |1.802 |1.802 |1.802 |0.04                 |0.07208     |2016-06-21 00:00:00|25.0              |\n",
      "|USDT  |1426636800       |3.995 |0.2047|3.583 |0.2047|0.9232               |0.189       |2015-03-18 00:00:00|18.95767195767196 |\n",
      "|USDT  |1462924800       |1.248 |1.257 |1.257 |1.257 |0.057                |0.07163     |2016-05-11 00:00:00|17.548513192796314|\n",
      "|USDT  |1453420800       |1.149 |1.071 |1.071 |1.071 |0.059                |0.06321     |2016-01-22 00:00:00|16.943521594684384|\n",
      "|USDT  |1477785600       |1.144 |1.116 |1.116 |1.116 |0.07                 |0.07809     |2016-10-30 00:00:00|14.291202458701498|\n",
      "|USDT  |1421193600       |0.7524|2.474 |2.474 |0.5607|0.077                |0.1905      |2015-01-14 00:00:00|12.986876640419949|\n",
      "|USDT  |1485129600       |1.351 |1.355 |1.355 |1.355 |0.0771               |0.1044      |2017-01-23 00:00:00|12.978927203065133|\n",
      "|USDT  |1458864000       |1.152 |1.155 |1.155 |1.155 |0.08                 |0.09239     |2016-03-25 00:00:00|12.501352960277087|\n",
      "|USDT  |1437004800       |0.96  |0.96  |0.96  |0.96  |0.08071              |0.07748     |2015-07-16 00:00:00|12.390294269488901|\n",
      "|USDT  |1481328000       |0.9269|0.9311|0.9311|0.9311|0.105                |0.09777     |2016-12-10 00:00:00|9.523371177252736 |\n",
      "|USDT  |1473033600       |1.243 |1.236 |1.236 |1.236 |0.1052               |0.13        |2016-09-05 00:00:00|9.507692307692308 |\n",
      "|USDT  |1448582400       |1.591 |1.617 |1.617 |1.617 |0.1131               |0.1829      |2015-11-27 00:00:00|8.840896664844177 |\n",
      "+------+-----------------+------+------+------+------+---------------------+------------+-------------------+------------------+\n",
      "only showing top 20 rows\n",
      "\n"
     ]
    }
   ],
   "source": [
    "df2 = df.withColumn(\"HV Ratio\", col(\"high\")/col(\"volume (USD)\"))\n",
    "\n",
    "# display dataframe in descending order of HV Ratio\n",
    "df2.sort(\"HV Ratio\", ascending=False).show(truncate=False)"
   ]
  },
  {
   "cell_type": "code",
   "execution_count": 68,
   "metadata": {},
   "outputs": [
    {
     "name": "stdout",
     "output_type": "stream",
     "text": [
      "+------+-----------------+--------+--------+--------+--------+---------------------+--------------+-------------------+---------------------+\n",
      "|symbol|time (unix epoch)|open    |close   |high    |low     |volume (Crypto Units)|volume (USD)  |date_time (unix)   |HV Ratio             |\n",
      "+------+-----------------+--------+--------+--------+--------+---------------------+--------------+-------------------+---------------------+\n",
      "|BTC   |1680566400       |27810.08|28206.13|28437.75|27674.33|32650.85             |9.1800723453E8|2023-04-04 00:00:00|3.097769704893395E-5 |\n",
      "|XRP   |1680566400       |0.4964  |0.5044  |0.5073  |0.4871  |7.91145846E7         |3.93053385E7  |2023-04-04 00:00:00|1.2906643712024003E-8|\n",
      "|BNB   |1680566400       |308.66  |310.95  |312.45  |308.26  |13539.82             |4187276.49    |2023-04-04 00:00:00|7.461890819633932E-5 |\n",
      "|USDT  |1680566400       |1.0     |1.0     |1.002   |0.9994  |2.4393991638E8       |2.4397732647E8|2023-04-04 00:00:00|4.106939011495432E-9 |\n",
      "|ADA   |1680566400       |0.3872  |0.3914  |0.4     |0.3847  |5.80996484E7         |2.280413301E7 |2023-04-04 00:00:00|1.7540680008513947E-8|\n",
      "|DOGE  |1680566400       |0.09609 |0.09592 |0.1034  |0.09234 |1.8571761608E9       |1.8151785191E8|2023-04-04 00:00:00|5.696409411635595E-10|\n",
      "|USDC  |1680566400       |0.9999  |0.9998  |1.001   |0.9996  |2.427062511E7        |2.42681784E7  |2023-04-04 00:00:00|4.12474304210653E-8  |\n",
      "|ARB   |1680566400       |0.0     |1.239   |1.266   |0.0     |5369069.89           |6593005.93    |2023-04-04 00:00:00|1.920216686351441E-7 |\n",
      "|APT   |1680566400       |11.33   |11.49   |11.57   |11.14   |136957.51            |1567148.18    |2023-04-04 00:00:00|7.38283727579609E-6  |\n",
      "|ETH   |1680566400       |1811.0  |1868.06 |1889.35 |1803.18 |367398.57            |6.8105431782E8|2023-04-04 00:00:00|2.774154646060621E-6 |\n",
      "|BTC   |1680480000       |28186.76|27810.08|28494.64|27290.26|52416.66             |1.4677250807E9|2023-04-03 00:00:00|1.9414153491476816E-5|\n",
      "|ETH   |1680480000       |1795.54 |1811.0  |1839.73 |1764.78 |368332.85            |6.6360496451E8|2023-04-03 00:00:00|2.772327059606072E-6 |\n",
      "|ADA   |1680480000       |0.3817  |0.3872  |0.4048  |0.3714  |1.0697740667E8       |4.164039997E7 |2023-04-03 00:00:00|9.72132833238009E-9  |\n",
      "|USDC  |1680480000       |0.9997  |0.9999  |1.0     |0.9984  |4.122123856E7        |4.121319796E7 |2023-04-03 00:00:00|2.4264071935659127E-8|\n",
      "|USDT  |1680480000       |1.001   |1.0     |1.025   |0.9816  |52416.66             |52431.89      |2023-04-03 00:00:00|1.9549171315396028E-5|\n",
      "|XRP   |1680480000       |0.5185  |0.4964  |0.5242  |0.4844  |8.352995015E7        |4.237648696E7 |2023-04-03 00:00:00|1.2370067403057801E-8|\n",
      "|DOGE  |1680480000       |0.07907 |0.09609 |0.1044  |0.0761  |2.29565233409E9      |2.1331631291E8|2023-04-03 00:00:00|4.894140470356211E-10|\n",
      "|APT   |1680480000       |12.16   |11.34   |12.16   |11.0    |9098595.83           |1.0317807671E8|2023-04-03 00:00:00|1.1785449378144355E-7|\n",
      "|BNB   |1680480000       |314.0   |308.69  |312.59  |301.74  |53426.87             |1.649244137E7 |2023-04-03 00:00:00|1.8953531074459718E-5|\n",
      "|ARB   |1680480000       |0.0     |0.0     |0.0     |0.0     |0.0                  |0.0           |2023-04-03 00:00:00|null                 |\n",
      "+------+-----------------+--------+--------+--------+--------+---------------------+--------------+-------------------+---------------------+\n",
      "only showing top 20 rows\n",
      "\n"
     ]
    }
   ],
   "source": [
    "# sort by date_time (unix) in descending order to get HV Ratiio for most recent dates\n",
    "df2.sort(\"date_time (unix)\", ascending=False).show(truncate=False)"
   ]
  },
  {
   "cell_type": "code",
   "execution_count": 69,
   "metadata": {},
   "outputs": [
    {
     "name": "stdout",
     "output_type": "stream",
     "text": [
      "root\n",
      " |-- symbol: string (nullable = true)\n",
      " |-- time (unix epoch): long (nullable = true)\n",
      " |-- open: double (nullable = true)\n",
      " |-- close: double (nullable = true)\n",
      " |-- high: double (nullable = true)\n",
      " |-- low: double (nullable = true)\n",
      " |-- volume (Crypto Units): double (nullable = true)\n",
      " |-- volume (USD): double (nullable = true)\n",
      " |-- date_time (unix): string (nullable = true)\n",
      " |-- HV Ratio: double (nullable = true)\n",
      "\n"
     ]
    }
   ],
   "source": [
    "df2.printSchema()"
   ]
  },
  {
   "cell_type": "code",
   "execution_count": 70,
   "metadata": {},
   "outputs": [
    {
     "name": "stdout",
     "output_type": "stream",
     "text": [
      "+----+---------+\n",
      "| sym|max(high)|\n",
      "+----+---------+\n",
      "| ARB|    1.266|\n",
      "| ETH|  4865.94|\n",
      "|DOGE|   0.7398|\n",
      "|USDC|    1.643|\n",
      "| BTC| 68978.64|\n",
      "|USDT|   207.09|\n",
      "| XRP|     3.29|\n",
      "| BNB|   693.73|\n",
      "| APT|    20.33|\n",
      "| ADA|    3.097|\n",
      "+----+---------+\n",
      "\n"
     ]
    }
   ],
   "source": [
    "df2.groupby(col(\"symbol\").alias(\"sym\")).max(\"high\").show()"
   ]
  },
  {
   "attachments": {},
   "cell_type": "markdown",
   "metadata": {},
   "source": [
    "#### What day had the Peak High in Price for each cryptocurrency in dataset?"
   ]
  },
  {
   "cell_type": "code",
   "execution_count": 71,
   "metadata": {},
   "outputs": [
    {
     "name": "stdout",
     "output_type": "stream",
     "text": [
      "+------+-------------------+--------+\n",
      "|symbol|   date_time (unix)|    high|\n",
      "+------+-------------------+--------+\n",
      "|   BTC|2021-11-10 00:00:00|68978.64|\n",
      "|   ETH|2021-11-10 00:00:00| 4865.94|\n",
      "|  USDT|2015-11-06 00:00:00|  207.09|\n",
      "|   XRP|2018-01-04 00:00:00|    3.29|\n",
      "|   BNB|2021-11-08 00:00:00|  693.73|\n",
      "|  USDC|2020-03-12 00:00:00|   1.643|\n",
      "|   ADA|2021-09-02 00:00:00|   3.097|\n",
      "|  DOGE|2021-05-08 00:00:00|  0.7398|\n",
      "|   ARB|2023-04-04 00:00:00|   1.266|\n",
      "|   APT|2023-01-30 00:00:00|   20.33|\n",
      "+------+-------------------+--------+\n",
      "\n"
     ]
    }
   ],
   "source": [
    "df_max_high = df2.groupby(col(\"symbol\").alias(\"sym\")).agg({\"high\": \"max\"})\n",
    "df2.join(df_max_high, (df2[\"symbol\"] == df_max_high[\"sym\"]) & (df2[\"high\"] == df_max_high[\"max(high)\"])).select([\"symbol\", \"date_time (unix)\", \"high\"]).show()"
   ]
  },
  {
   "attachments": {},
   "cell_type": "markdown",
   "metadata": {},
   "source": [
    "#### What is the mean closing price for each cryptocurrency?"
   ]
  },
  {
   "cell_type": "code",
   "execution_count": 72,
   "metadata": {},
   "outputs": [
    {
     "name": "stdout",
     "output_type": "stream",
     "text": [
      "+------+--------------------+\n",
      "|symbol|          avg(close)|\n",
      "+------+--------------------+\n",
      "|   BTC|   8894.902664497304|\n",
      "|   ETH|   501.3238324865445|\n",
      "|   BNB|    65.5657388159311|\n",
      "|  USDT|   0.759260495156095|\n",
      "|  USDC| 0.35313466092572676|\n",
      "|   APT| 0.32361011840688925|\n",
      "|   XRP|  0.2289785164693219|\n",
      "|   ADA| 0.20545459203444555|\n",
      "|  DOGE|0.026359360598492997|\n",
      "|   ARB|2.667384284176534...|\n",
      "+------+--------------------+\n",
      "\n"
     ]
    }
   ],
   "source": [
    "df2.groupby(\"symbol\").mean(\"close\").sort(\"avg(close)\", ascending=False).show()"
   ]
  },
  {
   "attachments": {},
   "cell_type": "markdown",
   "metadata": {},
   "source": [
    "#### What is min and max volume (both unit assets and price) for each cryptocurrency?"
   ]
  },
  {
   "cell_type": "code",
   "execution_count": 73,
   "metadata": {},
   "outputs": [
    {
     "name": "stdout",
     "output_type": "stream",
     "text": [
      "+------+-------------------------+-------------------------+-----------------+----------------+\n",
      "|symbol|max_volume (Crypto Units)|min_volume (Crypto Units)| max_volume (USD)|min_volume (USD)|\n",
      "+------+-------------------------+-------------------------+-----------------+----------------+\n",
      "|   ARB|               5369069.89|                      0.0|       6593005.93|             0.0|\n",
      "|   ETH|            1.098033209E7|                      0.0|  9.65796855596E9|             0.0|\n",
      "|  DOGE|        1.153458176332E10|                      0.0|  2.12237452234E9|             0.0|\n",
      "|  USDC|           5.6439868532E8|                      0.0|    5.333564084E8|             0.0|\n",
      "|   BTC|                572349.32|                      0.0|1.112022085477E10|             0.0|\n",
      "|  USDT|          4.23247075921E9|                      0.0|  4.18769644556E9|             0.0|\n",
      "|   XRP|          3.61211042715E9|                      0.0|  1.56522873526E9|             0.0|\n",
      "|   BNB|            1.082578296E7|                      0.0|  2.94730364398E9|             0.0|\n",
      "|   APT|            4.768390545E7|                      0.0|   7.1996965991E8|             0.0|\n",
      "|   ADA|          2.29183551787E9|                      0.0|  1.09557688006E9|             0.0|\n",
      "+------+-------------------------+-------------------------+-----------------+----------------+\n",
      "\n"
     ]
    }
   ],
   "source": [
    "from pyspark.sql.functions import max, min\n",
    "df2.groupby(\"symbol\").agg(\n",
    "    max(\"volume (Crypto Units)\").alias(\"max_volume (Crypto Units)\"),\n",
    "    min(\"volume (Crypto Units)\").alias(\"min_volume (Crypto Units)\"),\n",
    "    max(\"volume (USD)\").alias(\"max_volume (USD)\"),\n",
    "    min(\"volume (USD)\").alias(\"min_volume (USD)\")\n",
    ").show()"
   ]
  },
  {
   "attachments": {},
   "cell_type": "markdown",
   "metadata": {},
   "source": [
    "#### What is the Pearson's correlation coefficient between high and volume (USD) for each cryptocurrency?"
   ]
  },
  {
   "cell_type": "code",
   "execution_count": 74,
   "metadata": {},
   "outputs": [
    {
     "name": "stdout",
     "output_type": "stream",
     "text": [
      "+------+------------------------+\n",
      "|symbol|corr(high, volume (USD))|\n",
      "+------+------------------------+\n",
      "|   ARB|                     1.0|\n",
      "|   ETH|      0.7296758368697659|\n",
      "|  DOGE|      0.7214272997816695|\n",
      "|  USDC|      0.1292183119594394|\n",
      "|   BTC|       0.777549881086647|\n",
      "|  USDT|    0.002495057225778...|\n",
      "|   XRP|      0.6677528906152208|\n",
      "|   BNB|      0.4592640013897647|\n",
      "|   APT|       0.861090128365362|\n",
      "|   ADA|       0.721346715928943|\n",
      "+------+------------------------+\n",
      "\n"
     ]
    }
   ],
   "source": [
    "from pyspark.sql.functions import corr\n",
    "df2.groupby(\"symbol\").agg(corr(\"high\", \"volume (USD)\")).show()"
   ]
  },
  {
   "attachments": {},
   "cell_type": "markdown",
   "metadata": {},
   "source": [
    "#### What is max metrics per year for each cryptocurrency?"
   ]
  },
  {
   "cell_type": "code",
   "execution_count": 75,
   "metadata": {},
   "outputs": [
    {
     "name": "stdout",
     "output_type": "stream",
     "text": [
      "+------+----+--------+---------+--------+--------+-----------------+\n",
      "|symbol|year|max_high|max_close|max_open|max_low |max_volume (USD) |\n",
      "+------+----+--------+---------+--------+--------+-----------------+\n",
      "|BTC   |2021|68978.64|67549.14 |67549.14|66312.42|1.112022085477E10|\n",
      "|BTC   |2022|48208.48|47737.35 |47737.35|47018.87|4.50136816633E9  |\n",
      "|BTC   |2020|29301.67|28972.4  |28889.61|27957.13|3.19465446793E9  |\n",
      "|BTC   |2023|29172.9 |28477.29 |28477.29|28265.42|2.74410290012E9  |\n",
      "|BTC   |2017|19870.62|19345.49 |19346.6 |18750.91|6.2457315084E9   |\n",
      "|BTC   |2018|17252.85|17172.3  |17174.5 |16286.57|3.84265174145E9  |\n",
      "|BTC   |2019|13826.76|12913.28 |12913.28|12117.31|2.6858723651E9   |\n",
      "|ETH   |2021|4865.94 |4810.97  |4810.97 |4710.0  |9.65796855596E9  |\n",
      "|ETH   |2022|3891.61 |3830.92  |3830.92 |3718.46 |4.10783640823E9  |\n",
      "|ETH   |2023|1889.35 |1868.06  |1822.21 |1811.11 |1.18646114136E9  |\n",
      "|ETH   |2018|1422.86 |1385.02  |1385.02 |1271.07 |2.03401088899E9  |\n",
      "|BTC   |2013|1241.92 |1237.55  |1237.55 |1150.16 |8.324448859E7    |\n",
      "|BTC   |2014|1093.44 |1014.74  |1014.74 |964.74  |3.64122123E7     |\n",
      "|BTC   |2016|982.57  |972.17   |972.17  |949.23  |1.6970464702E8   |\n",
      "|ETH   |2017|868.89  |812.5    |812.5   |767.59  |1.53568509141E9  |\n",
      "|ETH   |2020|758.27  |752.53   |752.53  |722.92  |1.63880297473E9  |\n",
      "|BNB   |2021|693.73  |676.62   |676.62  |645.5   |2.94730364398E9  |\n",
      "|BNB   |2022|617.8   |531.25   |531.25  |521.79  |3.28636558E8     |\n",
      "|BTC   |2015|492.8   |463.18   |463.18  |453.46  |2.2967302439E8   |\n",
      "|ETH   |2019|356.54  |334.45   |334.45  |327.09  |1.9517512556E9   |\n",
      "+------+----+--------+---------+--------+--------+-----------------+\n",
      "only showing top 20 rows\n",
      "\n"
     ]
    }
   ],
   "source": [
    "from pyspark.sql.functions import year\n",
    "max_metrics_df = df2.withColumn(\"year\", year(df[\"date_time (unix)\"])).groupby([\"symbol\", \"year\"]).agg(\n",
    "                                                max(\"high\").alias(\"max_high\"),\n",
    "                                                max(\"close\").alias(\"max_close\"),\n",
    "                                                max(\"open\").alias(\"max_open\"),\n",
    "                                                max(\"low\").alias(\"max_low\"),\n",
    "                                                max(\"volume (USD)\").alias(\"max_volume (USD)\"))\n",
    "max_metrics_df.sort(\"max_high\", ascending=False).show(truncate=False)"
   ]
  },
  {
   "attachments": {},
   "cell_type": "markdown",
   "metadata": {},
   "source": [
    "#### What is average closing price for each month for each cryptocurrency?"
   ]
  },
  {
   "cell_type": "code",
   "execution_count": 76,
   "metadata": {},
   "outputs": [
    {
     "name": "stdout",
     "output_type": "stream",
     "text": [
      "+------+-----+------------------+\n",
      "|symbol|month|        avg(close)|\n",
      "+------+-----+------------------+\n",
      "|   BTC|    3| 11095.00185012407|\n",
      "|   BTC|    2|10355.330763215256|\n",
      "|   BTC|    4|10317.462448351647|\n",
      "|   BTC|    1|  9511.98708263027|\n",
      "|   BTC|   11| 9116.573878461542|\n",
      "|   BTC|   12| 8976.780759057074|\n",
      "|   BTC|    5| 8860.711142473117|\n",
      "|   BTC|   10| 8548.841935334987|\n",
      "|   BTC|    8| 7877.584074367245|\n",
      "|   BTC|    9| 7562.788398384617|\n",
      "|   BTC|    6| 7510.352950000002|\n",
      "|   BTC|    7| 7012.631505452193|\n",
      "|   ETH|    2| 568.6205694822889|\n",
      "|   ETH|    3| 557.9127791563276|\n",
      "|   ETH|    5|  547.094997311828|\n",
      "|   ETH|    1| 546.9078258064515|\n",
      "|   ETH|    4| 539.8541373626374|\n",
      "|   ETH|   11| 533.5815920512822|\n",
      "|   ETH|   12|  522.392269975186|\n",
      "|   ETH|   10| 482.2133401985114|\n",
      "+------+-----+------------------+\n",
      "only showing top 20 rows\n",
      "\n"
     ]
    }
   ],
   "source": [
    "from pyspark.sql.functions import month\n",
    "avg_metrics_month = df2.withColumn(\"month\", month(df[\"date_time (unix)\"])).groupby([\"symbol\", \"month\"]).mean(\"close\")\n",
    "avg_metrics_month.sort(\"avg(close)\", ascending=False).show()"
   ]
  },
  {
   "cell_type": "code",
   "execution_count": null,
   "metadata": {},
   "outputs": [],
   "source": []
  }
 ],
 "metadata": {
  "kernelspec": {
   "display_name": "pyspark-env-2",
   "language": "python",
   "name": "python3"
  },
  "language_info": {
   "codemirror_mode": {
    "name": "ipython",
    "version": 3
   },
   "file_extension": ".py",
   "mimetype": "text/x-python",
   "name": "python",
   "nbconvert_exporter": "python",
   "pygments_lexer": "ipython3",
   "version": "3.9.16"
  },
  "orig_nbformat": 4,
  "vscode": {
   "interpreter": {
    "hash": "39f93976b1c64978314e925c1e7f4ebbbbad2066ee63e0769d4e75540fba1ec4"
   }
  }
 },
 "nbformat": 4,
 "nbformat_minor": 2
}
