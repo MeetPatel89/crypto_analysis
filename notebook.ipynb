{
 "cells": [
  {
   "cell_type": "code",
   "execution_count": 5,
   "metadata": {},
   "outputs": [],
   "source": [
    "import pandas as pd\n",
    "import numpy as np\n",
    "%matplotlib inline\n",
    "import config \n",
    "import sql_con\n",
    "from requests import Session\n",
    "from requests.exceptions import ConnectionError, Timeout, TooManyRedirects\n",
    "import json\n",
    "import csv"
   ]
  },
  {
   "cell_type": "code",
   "execution_count": 6,
   "metadata": {},
   "outputs": [],
   "source": [
    "# get module variables\n",
    "ROOT_DIR = config.ROOT_DIR\n",
    "select_records = sql_con.select_records\n",
    "insert_records = sql_con.insert_records\n",
    "update_records = sql_con.update_records\n",
    "conn_odbc = sql_con.conn_odbc\n",
    "read_contents = sql_con.read_contents"
   ]
  },
  {
   "cell_type": "code",
   "execution_count": 7,
   "metadata": {},
   "outputs": [],
   "source": [
    "# make request to cryptocompare api to get historical data for bitcoin quote prices in USD\n",
    "url = \"https://min-api.cryptocompare.com/data/histoday\"\n",
    "parameters = {\n",
    "  \"fsym\":\"BTC\",\n",
    "  \"tsym\":\"USD\",\n",
    "  \"allData\":\"true\"\n",
    "}\n",
    "headers = {\n",
    "  \"authorization\": f\"Apikey {config.API_KEY}\",\n",
    "}\n",
    "\n",
    "session = Session()\n",
    "session.headers.update(headers)\n",
    "\n",
    "try:\n",
    "  response = session.get(url, params=parameters)\n",
    "  res_json = json.loads(response.text)\n",
    "except (ConnectionError, Timeout, TooManyRedirects) as e:\n",
    "  print(e)\n",
    "\n",
    "# res1 = requests.get(url, headers=headers)"
   ]
  },
  {
   "cell_type": "code",
   "execution_count": 8,
   "metadata": {},
   "outputs": [],
   "source": [
    "# get data from json response and normalize it into a pandas dataframe\n",
    "data = res_json[\"Data\"]\n",
    "data = pd.json_normalize(data)"
   ]
  },
  {
   "cell_type": "code",
   "execution_count": 9,
   "metadata": {},
   "outputs": [
    {
     "data": {
      "text/html": [
       "<div>\n",
       "<style scoped>\n",
       "    .dataframe tbody tr th:only-of-type {\n",
       "        vertical-align: middle;\n",
       "    }\n",
       "\n",
       "    .dataframe tbody tr th {\n",
       "        vertical-align: top;\n",
       "    }\n",
       "\n",
       "    .dataframe thead th {\n",
       "        text-align: right;\n",
       "    }\n",
       "</style>\n",
       "<table border=\"1\" class=\"dataframe\">\n",
       "  <thead>\n",
       "    <tr style=\"text-align: right;\">\n",
       "      <th></th>\n",
       "      <th>time</th>\n",
       "      <th>high</th>\n",
       "      <th>low</th>\n",
       "      <th>open</th>\n",
       "      <th>volumefrom</th>\n",
       "      <th>volumeto</th>\n",
       "      <th>close</th>\n",
       "      <th>conversionType</th>\n",
       "      <th>conversionSymbol</th>\n",
       "    </tr>\n",
       "  </thead>\n",
       "  <tbody>\n",
       "    <tr>\n",
       "      <th>0</th>\n",
       "      <td>1279324800</td>\n",
       "      <td>0.04951</td>\n",
       "      <td>0.04951</td>\n",
       "      <td>0.04951</td>\n",
       "      <td>20.00</td>\n",
       "      <td>9.902000e-01</td>\n",
       "      <td>0.04951</td>\n",
       "      <td>direct</td>\n",
       "      <td></td>\n",
       "    </tr>\n",
       "    <tr>\n",
       "      <th>1</th>\n",
       "      <td>1279411200</td>\n",
       "      <td>0.08585</td>\n",
       "      <td>0.05941</td>\n",
       "      <td>0.04951</td>\n",
       "      <td>75.01</td>\n",
       "      <td>5.092000e+00</td>\n",
       "      <td>0.08584</td>\n",
       "      <td>direct</td>\n",
       "      <td></td>\n",
       "    </tr>\n",
       "    <tr>\n",
       "      <th>2</th>\n",
       "      <td>1279497600</td>\n",
       "      <td>0.09307</td>\n",
       "      <td>0.07723</td>\n",
       "      <td>0.08584</td>\n",
       "      <td>574.00</td>\n",
       "      <td>4.966000e+01</td>\n",
       "      <td>0.08080</td>\n",
       "      <td>direct</td>\n",
       "      <td></td>\n",
       "    </tr>\n",
       "    <tr>\n",
       "      <th>3</th>\n",
       "      <td>1279584000</td>\n",
       "      <td>0.08181</td>\n",
       "      <td>0.07426</td>\n",
       "      <td>0.08080</td>\n",
       "      <td>262.00</td>\n",
       "      <td>2.059000e+01</td>\n",
       "      <td>0.07474</td>\n",
       "      <td>direct</td>\n",
       "      <td></td>\n",
       "    </tr>\n",
       "    <tr>\n",
       "      <th>4</th>\n",
       "      <td>1279670400</td>\n",
       "      <td>0.07921</td>\n",
       "      <td>0.06634</td>\n",
       "      <td>0.07474</td>\n",
       "      <td>575.00</td>\n",
       "      <td>4.226000e+01</td>\n",
       "      <td>0.07921</td>\n",
       "      <td>direct</td>\n",
       "      <td></td>\n",
       "    </tr>\n",
       "    <tr>\n",
       "      <th>...</th>\n",
       "      <td>...</td>\n",
       "      <td>...</td>\n",
       "      <td>...</td>\n",
       "      <td>...</td>\n",
       "      <td>...</td>\n",
       "      <td>...</td>\n",
       "      <td>...</td>\n",
       "      <td>...</td>\n",
       "      <td>...</td>\n",
       "    </tr>\n",
       "    <tr>\n",
       "      <th>4633</th>\n",
       "      <td>1679616000</td>\n",
       "      <td>28417.00000</td>\n",
       "      <td>27047.96000</td>\n",
       "      <td>28345.69000</td>\n",
       "      <td>56653.76</td>\n",
       "      <td>1.580517e+09</td>\n",
       "      <td>27491.73000</td>\n",
       "      <td>direct</td>\n",
       "      <td></td>\n",
       "    </tr>\n",
       "    <tr>\n",
       "      <th>4634</th>\n",
       "      <td>1679702400</td>\n",
       "      <td>27810.74000</td>\n",
       "      <td>27188.56000</td>\n",
       "      <td>27491.73000</td>\n",
       "      <td>26897.42</td>\n",
       "      <td>7.398358e+08</td>\n",
       "      <td>27493.43000</td>\n",
       "      <td>direct</td>\n",
       "      <td></td>\n",
       "    </tr>\n",
       "    <tr>\n",
       "      <th>4635</th>\n",
       "      <td>1679788800</td>\n",
       "      <td>28212.64000</td>\n",
       "      <td>27447.43000</td>\n",
       "      <td>27493.43000</td>\n",
       "      <td>29291.76</td>\n",
       "      <td>8.151863e+08</td>\n",
       "      <td>27996.81000</td>\n",
       "      <td>direct</td>\n",
       "      <td></td>\n",
       "    </tr>\n",
       "    <tr>\n",
       "      <th>4636</th>\n",
       "      <td>1679875200</td>\n",
       "      <td>28044.15000</td>\n",
       "      <td>26565.75000</td>\n",
       "      <td>27996.81000</td>\n",
       "      <td>48705.37</td>\n",
       "      <td>1.332455e+09</td>\n",
       "      <td>27145.09000</td>\n",
       "      <td>direct</td>\n",
       "      <td></td>\n",
       "    </tr>\n",
       "    <tr>\n",
       "      <th>4637</th>\n",
       "      <td>1679961600</td>\n",
       "      <td>27173.45000</td>\n",
       "      <td>26856.22000</td>\n",
       "      <td>27145.09000</td>\n",
       "      <td>2376.67</td>\n",
       "      <td>6.420071e+07</td>\n",
       "      <td>26989.25000</td>\n",
       "      <td>direct</td>\n",
       "      <td></td>\n",
       "    </tr>\n",
       "  </tbody>\n",
       "</table>\n",
       "<p>4638 rows × 9 columns</p>\n",
       "</div>"
      ],
      "text/plain": [
       "            time         high          low         open  volumefrom  \\\n",
       "0     1279324800      0.04951      0.04951      0.04951       20.00   \n",
       "1     1279411200      0.08585      0.05941      0.04951       75.01   \n",
       "2     1279497600      0.09307      0.07723      0.08584      574.00   \n",
       "3     1279584000      0.08181      0.07426      0.08080      262.00   \n",
       "4     1279670400      0.07921      0.06634      0.07474      575.00   \n",
       "...          ...          ...          ...          ...         ...   \n",
       "4633  1679616000  28417.00000  27047.96000  28345.69000    56653.76   \n",
       "4634  1679702400  27810.74000  27188.56000  27491.73000    26897.42   \n",
       "4635  1679788800  28212.64000  27447.43000  27493.43000    29291.76   \n",
       "4636  1679875200  28044.15000  26565.75000  27996.81000    48705.37   \n",
       "4637  1679961600  27173.45000  26856.22000  27145.09000     2376.67   \n",
       "\n",
       "          volumeto        close conversionType conversionSymbol  \n",
       "0     9.902000e-01      0.04951         direct                   \n",
       "1     5.092000e+00      0.08584         direct                   \n",
       "2     4.966000e+01      0.08080         direct                   \n",
       "3     2.059000e+01      0.07474         direct                   \n",
       "4     4.226000e+01      0.07921         direct                   \n",
       "...            ...          ...            ...              ...  \n",
       "4633  1.580517e+09  27491.73000         direct                   \n",
       "4634  7.398358e+08  27493.43000         direct                   \n",
       "4635  8.151863e+08  27996.81000         direct                   \n",
       "4636  1.332455e+09  27145.09000         direct                   \n",
       "4637  6.420071e+07  26989.25000         direct                   \n",
       "\n",
       "[4638 rows x 9 columns]"
      ]
     },
     "execution_count": 9,
     "metadata": {},
     "output_type": "execute_result"
    }
   ],
   "source": [
    "data"
   ]
  },
  {
   "cell_type": "code",
   "execution_count": 15,
   "metadata": {},
   "outputs": [
    {
     "data": {
      "text/plain": [
       "0       0.050000\n",
       "1       0.016860\n",
       "2       0.001874\n",
       "3       0.003973\n",
       "4       0.001874\n",
       "          ...   \n",
       "4633    0.000018\n",
       "4634    0.000038\n",
       "4635    0.000035\n",
       "4636    0.000021\n",
       "4637    0.000423\n",
       "Length: 4638, dtype: float64"
      ]
     },
     "execution_count": 15,
     "metadata": {},
     "output_type": "execute_result"
    }
   ],
   "source": [
    "data[\"high\"] / data[\"volumeto\"]"
   ]
  },
  {
   "cell_type": "code",
   "execution_count": 13,
   "metadata": {},
   "outputs": [
    {
     "data": {
      "text/plain": [
       "0       4.902480e-02\n",
       "1       4.370973e-01\n",
       "2       4.012528e+00\n",
       "3       1.538897e+00\n",
       "4       3.347415e+00\n",
       "            ...     \n",
       "4633    4.345115e+13\n",
       "4634    2.034062e+13\n",
       "4635    2.282262e+13\n",
       "4636    3.616960e+13\n",
       "4637    1.732729e+12\n",
       "Length: 4638, dtype: float64"
      ]
     },
     "execution_count": 13,
     "metadata": {},
     "output_type": "execute_result"
    }
   ],
   "source": [
    "data[\"volumeto\"] * data[\"close\"]"
   ]
  },
  {
   "cell_type": "code",
   "execution_count": 10,
   "metadata": {},
   "outputs": [
    {
     "name": "stdout",
     "output_type": "stream",
     "text": [
      "<class 'pandas.core.frame.DataFrame'>\n",
      "RangeIndex: 4638 entries, 0 to 4637\n",
      "Data columns (total 9 columns):\n",
      " #   Column            Non-Null Count  Dtype  \n",
      "---  ------            --------------  -----  \n",
      " 0   time              4638 non-null   int64  \n",
      " 1   high              4638 non-null   float64\n",
      " 2   low               4638 non-null   float64\n",
      " 3   open              4638 non-null   float64\n",
      " 4   volumefrom        4638 non-null   float64\n",
      " 5   volumeto          4638 non-null   float64\n",
      " 6   close             4638 non-null   float64\n",
      " 7   conversionType    4638 non-null   object \n",
      " 8   conversionSymbol  4638 non-null   object \n",
      "dtypes: float64(6), int64(1), object(2)\n",
      "memory usage: 326.2+ KB\n"
     ]
    }
   ],
   "source": [
    "data.info()"
   ]
  },
  {
   "cell_type": "code",
   "execution_count": 22,
   "metadata": {},
   "outputs": [],
   "source": [
    "# ingest data into excel file (ingestion point for data pipeline)\n",
    "data.to_csv(rf\"{ROOT_DIR}/data/btc_price.csv\", index=False)"
   ]
  },
  {
   "cell_type": "code",
   "execution_count": 23,
   "metadata": {},
   "outputs": [],
   "source": [
    "# spark session start\n",
    "from pyspark.sql import SparkSession"
   ]
  },
  {
   "cell_type": "code",
   "execution_count": 24,
   "metadata": {},
   "outputs": [],
   "source": [
    "spark=SparkSession.builder.appName(\"crypto_analysis\").getOrCreate()"
   ]
  },
  {
   "cell_type": "code",
   "execution_count": 25,
   "metadata": {},
   "outputs": [],
   "source": [
    "df = spark.read.option(\"header\", \"true\").csv(rf\"{ROOT_DIR}/data/btc_price.csv\")"
   ]
  },
  {
   "cell_type": "code",
   "execution_count": 26,
   "metadata": {},
   "outputs": [
    {
     "name": "stdout",
     "output_type": "stream",
     "text": [
      "+----------+-------+-------+-------+----------+--------+-------+--------------+----------------+\n",
      "|      time|   high|    low|   open|volumefrom|volumeto|  close|conversionType|conversionSymbol|\n",
      "+----------+-------+-------+-------+----------+--------+-------+--------------+----------------+\n",
      "|1279324800|0.04951|0.04951|0.04951|      20.0|  0.9902|0.04951|        direct|            null|\n",
      "|1279411200|0.08585|0.05941|0.04951|     75.01|   5.092|0.08584|        direct|            null|\n",
      "|1279497600|0.09307|0.07723|0.08584|     574.0|   49.66| 0.0808|        direct|            null|\n",
      "|1279584000|0.08181|0.07426| 0.0808|     262.0|   20.59|0.07474|        direct|            null|\n",
      "|1279670400|0.07921|0.06634|0.07474|     575.0|   42.26|0.07921|        direct|            null|\n",
      "|1279756800|0.08181| 0.0505|0.07921|    2160.0|  129.78| 0.0505|        direct|            null|\n",
      "|1279843200|0.06767| 0.0505| 0.0505|    2402.5|  141.07|0.06262|        direct|            null|\n",
      "|1279929600|0.06161|0.05049|0.06262|    496.32|   26.73|0.05454|        direct|            null|\n",
      "|1280016000|0.05941| 0.0505|0.05454|   1551.48|   85.06| 0.0505|        direct|            null|\n",
      "|1280102400|  0.056|   0.05| 0.0505|     877.0|   46.91|  0.056|        direct|            null|\n",
      "|1280188800| 0.0605|  0.053|  0.056|   3373.69|  196.92|   0.06|        direct|            null|\n",
      "|1280275200|  0.062|  0.054|   0.06|   4390.29|  255.76| 0.0589|        direct|            null|\n",
      "|1280361600| 0.0699| 0.0571| 0.0589|   8058.49|  528.32| 0.0699|        direct|            null|\n",
      "|1280448000| 0.0698| 0.0582| 0.0699|   3020.85|  198.53| 0.0627|        direct|            null|\n",
      "|1280534400|0.06889|  0.056| 0.0627|   4022.25|   243.9|0.06785|        direct|            null|\n",
      "|1280620800|  0.065|   0.06|0.06785|    2601.0|  162.65| 0.0611|        direct|            null|\n",
      "|1280707200| 0.0633|   0.06| 0.0611|    3599.0|   221.2|   0.06|        direct|            null|\n",
      "|1280793600|  0.065|  0.059|   0.06|   9821.46|  606.05|   0.06|        direct|            null|\n",
      "|1280880000|0.06231|  0.057|   0.06|    3494.0|  210.77|  0.057|        direct|            null|\n",
      "|1280966400|  0.061|  0.058|  0.057|   5034.07|  303.61|  0.061|        direct|            null|\n",
      "+----------+-------+-------+-------+----------+--------+-------+--------------+----------------+\n",
      "only showing top 20 rows\n",
      "\n"
     ]
    }
   ],
   "source": [
    "df.show()"
   ]
  },
  {
   "cell_type": "code",
   "execution_count": 27,
   "metadata": {},
   "outputs": [
    {
     "name": "stdout",
     "output_type": "stream",
     "text": [
      "root\n",
      " |-- time: string (nullable = true)\n",
      " |-- high: string (nullable = true)\n",
      " |-- low: string (nullable = true)\n",
      " |-- open: string (nullable = true)\n",
      " |-- volumefrom: string (nullable = true)\n",
      " |-- volumeto: string (nullable = true)\n",
      " |-- close: string (nullable = true)\n",
      " |-- conversionType: string (nullable = true)\n",
      " |-- conversionSymbol: string (nullable = true)\n",
      "\n"
     ]
    }
   ],
   "source": [
    "df.printSchema()"
   ]
  },
  {
   "cell_type": "code",
   "execution_count": null,
   "metadata": {},
   "outputs": [],
   "source": []
  }
 ],
 "metadata": {
  "kernelspec": {
   "display_name": "Python 3",
   "language": "python",
   "name": "python3"
  },
  "language_info": {
   "codemirror_mode": {
    "name": "ipython",
    "version": 3
   },
   "file_extension": ".py",
   "mimetype": "text/x-python",
   "name": "python",
   "nbconvert_exporter": "python",
   "pygments_lexer": "ipython3",
   "version": "3.11.0"
  },
  "orig_nbformat": 4,
  "vscode": {
   "interpreter": {
    "hash": "0c62ecade22fff4c1d31446e36615b3ce67a81b5933d46e8d3b7993b34a0b8fe"
   }
  }
 },
 "nbformat": 4,
 "nbformat_minor": 2
}
